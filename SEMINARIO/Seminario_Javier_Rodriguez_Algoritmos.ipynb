{
  "cells": [
    {
      "cell_type": "markdown",
      "metadata": {
        "id": "view-in-github",
        "colab_type": "text"
      },
      "source": [
        "<a href=\"https://colab.research.google.com/github/atarax-ia/VIU_03_Alg_Optimizacion/blob/main/SEMINARIO/Seminario_Javier_Rodriguez_Algoritmos.ipynb\" target=\"_parent\"><img src=\"https://colab.research.google.com/assets/colab-badge.svg\" alt=\"Open In Colab\"/></a>"
      ]
    },
    {
      "cell_type": "markdown",
      "metadata": {
        "id": "hVbXYX-RfPWh"
      },
      "source": [
        "# Algoritmos de optimización - Seminario<br>\n",
        "Nombre y Apellidos: Javier Rodríguez Juárez <br>\n",
        "Url: [Link a Github](https://github.com/atarax-ia/VIU_03_Alg_Optimizacion/tree/main/SEMINARIO) <br>\n",
        "Problema:\n",
        "> Sesiones de doblaje\n",
        "<br>\n",
        "\n",
        "\n",
        "Descripción del problema:\n",
        "\n",
        "\n",
        "Se precisa coordinar el doblaje de una película. Los actores del doblaje deben coincidir en las tomas en las que sus personajes aparecen juntos en las diferentes tomas. Los actores de doblaje cobran todos la misma cantidad por cada día que deben desplazarse hasta el estudio de grabación independientemente del número de tomas que se graben. No es posible grabar más de 6 tomas por día. El objetivo es planificar las sesiones por día de manera que el gasto por los servicios de los actores de doblaje sea el menor posible. Los datos son:\n",
        "\n",
        "- Número de actores: 10\n",
        "- Número de tomas: 30\n",
        "- [Actores/Tomas](https://bit.ly/36D8IuK)\n",
        "    - 1 indica que el actor participa en la toma\n",
        "    - 0 en caso contrario\n",
        "\n",
        "(*) La respuesta es obligatoria"
      ]
    },
    {
      "cell_type": "markdown",
      "metadata": {
        "id": "FUlhvwe9dcYz"
      },
      "source": [
        "### Importamos todas las librerías necesarias:"
      ]
    },
    {
      "cell_type": "code",
      "execution_count": null,
      "metadata": {
        "id": "8tCqVAoydcY0"
      },
      "outputs": [],
      "source": [
        "import csv\n",
        "import copy\n",
        "import random\n",
        "import numpy as np\n",
        "import itertools\n",
        "import math"
      ]
    },
    {
      "cell_type": "markdown",
      "metadata": {
        "id": "f8UlLs_UdcY2"
      },
      "source": [
        "### Soluciones posibles\n",
        "(*) ¿Cuantas posibilidades hay sin tener en cuenta las restricciones?<br>"
      ]
    },
    {
      "cell_type": "markdown",
      "metadata": {
        "id": "0RYNJebAdcY2"
      },
      "source": [
        "**Respuesta**"
      ]
    },
    {
      "cell_type": "markdown",
      "metadata": {
        "id": "1U9BcJp3dcY2"
      },
      "source": [
        "PERMUTACIONES de n elementos: posibles ordenaciones de un conjunto de n elementos distintos, siendo n la cantidad de tomas distintas a doblar por los actores.\n",
        "\n",
        "$ P_{n} = n! $\n",
        "\n",
        "$ P_{30} = 30! = 265252859812191058636308480000000 = 2. 6525285981219105863630848 \\times 10^{32} \\approx 265 \\space \\text{quintillones} $"
      ]
    },
    {
      "cell_type": "code",
      "execution_count": null,
      "metadata": {
        "id": "pNsfo2pfdcY3",
        "outputId": "dc6c40c7-685e-4f24-8eb0-8282344f6940"
      },
      "outputs": [
        {
          "name": "stdout",
          "output_type": "stream",
          "text": [
            "265252859812191058636308480000000\n"
          ]
        }
      ],
      "source": [
        "P_30 = math.factorial(30)\n",
        "print(P_30)"
      ]
    },
    {
      "cell_type": "markdown",
      "metadata": {
        "id": "dWB3UkGjdcY4"
      },
      "source": [
        "¿Cuantas posibilidades hay teniendo en cuenta todas las restricciones."
      ]
    },
    {
      "cell_type": "markdown",
      "metadata": {
        "id": "w1mItatudcY4"
      },
      "source": [
        "**Respuesta**"
      ]
    },
    {
      "cell_type": "markdown",
      "metadata": {
        "id": "iq6Fe32MgpDX"
      },
      "source": [
        "VARIACIONES de n elementos tomados de r en r : posibles muestras ordenadas de r elementos distintos que se pueden extraer de un conjunto de n elementos $(r \\le n)$, siendo n la cantidad de tomas distintas a doblar por los actores y r la restricción del número máximo de tomas posibles a realizar al día.\n",
        "\n",
        "Así, como $ 1 \\le r \\le 6 $: el número de días distintos a realizar tomas será $ m=\\lceil \\frac{n}{r} \\rceil $ (redondeo al entero siguiente)\n",
        "\n",
        "$ V_{n}^{m_{1}, m_{2}, ... m_{k}} = V_{n}^{m_{1}} + V_{n}^{m_{2}} + ... + V_{n}^{m_{k}} = n \\times (n-1) \\times ... \\times (n-m_{1}+1) + n \\times (n-1) \\times ... \\times (n-m_{2}+1) + ... + n \\times (n-1) \\times ... \\times (n-m_{k}+1) $\n",
        "\n",
        "$ V_{n}^{m_{1}|m_{2}, m_{3}, m_{4}, m_{5}, m_{6}} = V_{n}^{m_{1}} + V_{n}^{m_{2}} + V_{n}^{m_{3}} + V_{n}^{m_{4}} + V_{n}^{m_{5}} + V_{n}^{m_{6}} = $\n",
        "\n",
        "$ = V_{n}^{\\lceil \\frac{30}{1} \\rceil} + V_{n}^{\\lceil \\frac{30}{2} \\rceil} + V_{n}^{\\lceil \\frac{30}{3} \\rceil} + V_{n}^{\\lceil \\frac{30}{4} \\rceil} + V_{n}^{\\lceil \\frac{30}{5} \\rceil} + V_{n}^{\\lceil \\frac{30}{6} \\rceil} = V_{30}^{30} + V_{30}^{15} + V_{30}^{m_{10}} + V_{30}^{8} + V_{30}^{6} + V_{30}^{{5}} = $\n",
        "\n",
        "$ = 1 + 30 \\times 29 \\times ... \\times 17 \\times 16 + 30 \\times 29 \\times ... \\times 12 \\times 11 + 30 \\times 29 \\times ... \\times 10 \\times 9 + 30 \\times 29 \\times ... \\times 8 \\times 7 + 30 \\times 29 \\times ... \\times 7 \\times 6  $\n",
        "\n",
        "O también:\n",
        "\n",
        "$ = \\frac{30!}{30!} + \\frac{30!}{15!} + \\frac{30!}{10!} + \\frac{30!}{8!} + \\frac{30!}{6!} + \\frac{30!}{5!} $\n",
        "\n",
        "$ V_{30}^{30} + V_{30}^{15} + V_{30}^{m_{10}} + V_{30}^{8} + V_{30}^{6} + V_{30}^{{5}} = 1 + 202843204931727360000 + 73096577329197271449600000 + 6578691959627754430464000000 + 368406749739154248105984000000 + 2210440498434925488635904000000 = $\n",
        "\n",
        "$ = 2585499036913879893375528960001 = 2.585499036913879893375528960001 × 10^{30}  \\approx 2 \\space \\text{quintillones} $"
      ]
    },
    {
      "cell_type": "code",
      "execution_count": null,
      "metadata": {
        "id": "EyeFKgcAdcY5",
        "outputId": "17e6ca7a-64db-43ac-a2ae-5126be6669ee"
      },
      "outputs": [
        {
          "name": "stdout",
          "output_type": "stream",
          "text": [
            "2.58549903691388e+30\n"
          ]
        }
      ],
      "source": [
        "V_30_1al6 = 1\n",
        "for i in range(2, 6 + 1):\n",
        "    V_30_1al6 += math.factorial(30) / math.factorial(math.ceil(30/i))\n",
        "\n",
        "print(V_30_1al6)"
      ]
    },
    {
      "cell_type": "markdown",
      "metadata": {
        "id": "dzynfVJahHoY"
      },
      "source": [
        "### Modelo para el espacio de soluciones\n",
        "(*) ¿Cuál es la estructura de datos que mejor se adapta al problema? Arguméntalo.\n",
        "\n",
        "(Es posible que hayas elegido una al principio y veas la necesidad de cambiar, arguméntalo)\n"
      ]
    },
    {
      "cell_type": "markdown",
      "metadata": {
        "id": "xFIJrOwKi2Ti"
      },
      "source": [
        "**Respuesta**"
      ]
    },
    {
      "cell_type": "markdown",
      "metadata": {
        "id": "Od8zmOdwdcY6"
      },
      "source": [
        "El espacio de soluciones se representa por un vector con longitud igual al número de tomas a doblar. en este problema, el vector tendrá 30 posiciones de tal manera que la primera posición representa a la primera toma (índice 0), la segunda posición representa la segunda toma (índice 1), etc.\n",
        "\n",
        "El contenido de este vector es el día que se realiará el doblaje de esa toma.\n",
        "\n",
        "Por ejemplo, para la planificación:\n",
        "\n",
        "|**Escena:**|1|2|3|4|5|6|7|...|28|29|30|\n",
        "|:-:|:-:|:-:|:-:|:-:|:-:|:-:|:-:|:-:|:-:|:-:|:-:|\n",
        "|**Día:**|4|1|2|5|3|3|5|...|4|2|1|\n",
        "\n",
        "Correspondería el vector:\n",
        "\n",
        "$ [4, 1, 2, 5, 3, 3, 5, 3, 1, 5, 3, 2, 5, 2, 1, 2, 3, 4, 1, 5, 5, 4, 1, 2, 3, 4, 4, 4, 2, 1] $\n",
        "\n",
        "- La primera escena se doblará el 4º día\n",
        "- La segunda escena se doblará el 1º día\n",
        "- La tercera escena se doblará el 2º día\n",
        "- ...\n",
        "- La última escena se doblará el 1º día"
      ]
    },
    {
      "cell_type": "markdown",
      "metadata": {
        "id": "swuiz7ytdcY7"
      },
      "source": [
        "Además, existirá otra estrutura de datos dónde se almacenan los actores necesarios en cada toma de doblaje, representado por una matriz con tantas filas como tomas y tantas columnas como actores.\n",
        "\n",
        "Así, la primera fila representa la primera toma, la segunda fila la siguiente toma, etc.\n",
        "\n",
        "Dentro de cada fila (toma) la primera posición representa si es necesaria la participación del primer actor (1) o no (0), la segunda posición representa la necesidad del segundo actor, etc."
      ]
    },
    {
      "cell_type": "markdown",
      "metadata": {
        "id": "7Z9U2W7bi-XS"
      },
      "source": [
        "### Según el modelo para el espacio de soluciones\n",
        "(*) ¿Cual es la función objetivo?"
      ]
    },
    {
      "cell_type": "markdown",
      "metadata": {
        "id": "erjEBfMwdcY7"
      },
      "source": [
        "**Respuesta**"
      ]
    },
    {
      "cell_type": "markdown",
      "metadata": {
        "id": "XpCyU31GdcY7"
      },
      "source": [
        "La función objetivo es que el gasto por los servicios de los actores de doblaje sea el menor posible."
      ]
    },
    {
      "cell_type": "markdown",
      "metadata": {
        "id": "tZiivDOxdcY8"
      },
      "source": [
        "(*) ¿Es un problema de maximización o minimización?"
      ]
    },
    {
      "cell_type": "markdown",
      "metadata": {
        "id": "hBalWLM7j1_d"
      },
      "source": [
        "**Respuesta**"
      ]
    },
    {
      "cell_type": "markdown",
      "metadata": {
        "id": "Q_yfdr9MdcY8"
      },
      "source": [
        "Minimización"
      ]
    },
    {
      "cell_type": "markdown",
      "metadata": {
        "id": "rlnTYgY1j6I2"
      },
      "source": [
        "### Fuerza bruta\n",
        "Diseña un algoritmo para resolver el problema por fuerza bruta"
      ]
    },
    {
      "cell_type": "markdown",
      "metadata": {
        "id": "70rDgxYXkC8r"
      },
      "source": [
        "**Respuesta**"
      ]
    },
    {
      "cell_type": "code",
      "execution_count": null,
      "metadata": {
        "id": "CJb5sQ0qkENy"
      },
      "outputs": [],
      "source": [
        "def combinaciones_tomas(escenas, min_dia, max_dia):\n",
        "    num_escenas = len(escenas)\n",
        "    sol_base = []\n",
        "\n",
        "    # Generamos las posibles soluciones base\n",
        "    for i in range(min_dia, max_dia + 1):\n",
        "        sol = []\n",
        "        dia = 1\n",
        "        for j in range(math.ceil(num_escenas / i)):\n",
        "            if num_escenas - len(sol) > j:\n",
        "                sol += [dia] * i\n",
        "                dia += 1\n",
        "            elif num_escenas - len(sol) > 0:\n",
        "                sol += [dia] * (num_escenas - len(sol))\n",
        "        sol_base.append(sol)\n",
        "\n",
        "    soluciones = sol_base\n",
        "\n",
        "    # Permutamos las soluciones base\n",
        "    for i in sol_base:\n",
        "        permutaciones = itertools.permutations(i, num_escenas)\n",
        "        for perm in list(permutaciones):\n",
        "            if list(perm) not in soluciones:\n",
        "                soluciones.append(list(perm))\n",
        "\n",
        "    return soluciones"
      ]
    },
    {
      "cell_type": "markdown",
      "metadata": {
        "id": "kpvcceAIdcY9"
      },
      "source": [
        "Esta función genera todas las posibles combinaciones de soluciones, es decir, genera $n!$ soluciones, siendo $n$ el número de escenas.\n",
        "\n",
        "Teniendo en cuenta que el la complejidad computacional de $ itertools.permutations(i, num\\space escenas) $ es de $ \\mathcal{O}(n^{3}) $, obtener el conjunto de soluciones, con esta función, tiene un coste de $ \\mathcal{O}(n^{2} + n^{3} \\times n^{2}) = \\mathcal{O}(n^{5}) $\n",
        "\n",
        "No confundir con que esta función devuelve $n!$ elementos"
      ]
    },
    {
      "cell_type": "markdown",
      "metadata": {
        "id": "xwXXcF2udcY-"
      },
      "source": [
        "Creamos una función que, dada una lista, nos devuelva las posiciones iguales a ese elemento.\n",
        "\n",
        "Así, para una solución dada y un día determinado, nos devuelve un listado con las tomas que se doblarán ese día."
      ]
    },
    {
      "cell_type": "code",
      "execution_count": null,
      "metadata": {
        "id": "cxZQ5M9PdcY-"
      },
      "outputs": [],
      "source": [
        "def encuentra_indices(solucion, dia):\n",
        "    indices = []\n",
        "    for idx, valor in enumerate(solucion):\n",
        "        if valor == dia:\n",
        "            indices.append(idx)\n",
        "    return indices"
      ]
    },
    {
      "cell_type": "markdown",
      "metadata": {
        "id": "OPZngclBdcY-"
      },
      "source": [
        "El coste computacional de esta función es $ \\mathcal{O}(n) $"
      ]
    },
    {
      "cell_type": "markdown",
      "metadata": {
        "id": "ElVFLzbsdcY-"
      },
      "source": [
        "Una vez obtenidas las todas las posibles soluciones, junto con la matriz de datos (con la relación de actores en cada escena) es necesario definir una función que evalúe cada solución.\n",
        "\n",
        "Para una solución y un día dados, calculamos cuantos actores participarán ese día haciendo un **OR** lógico entre las líneas de la matriz de datos que contiene con 0 ó 1 la ausencia o participación de los actores en la toma.\n",
        "\n",
        "Así, suponiendo que en un día realizamos las tomas 1, 4 y 16:\n",
        "\n",
        "|**Actores:**|1|2|3|4|5|6|7|8|9|10|\n",
        "|:-:|:-:|:-:|:-:|:-:|:-:|:-:|:-:|:-:|:-:|:-:|\n",
        "|**Toma 1:**|1|1|1|1|1|0|0|0|0|0|\n",
        "|**Toma 4:**|1|1|0|0|0|0|1|1|0|0|\n",
        "|**Toma 16:**|0|0|0|1|0|0|0|0|0|1|\n",
        "||||||||||||\n",
        "|**OR**|1|1|1|1|1|0|1|1|0|1|\n",
        "\n",
        "Sumando la última fila **OR** obtenemos 8, que es el total de actores que intervienen ese día."
      ]
    },
    {
      "cell_type": "code",
      "execution_count": null,
      "metadata": {
        "id": "fmKd45fndcY_"
      },
      "outputs": [],
      "source": [
        "def coste_solucion(datos, solucion):\n",
        "    # Lista de días únicos de doblaje\n",
        "    dias_doblaje = list(set(solucion))\n",
        "\n",
        "    coste = 0\n",
        "    for dia in dias_doblaje:\n",
        "        # Lista de días únicos de doblaje\n",
        "        indices = encuentra_indices(solucion, dia)\n",
        "        a = datos[indices[0]]\n",
        "        for i in range(1, len(indices)):\n",
        "            b = datos[indices[i]]\n",
        "            a = [x or y for x, y in zip(a,b)]\n",
        "        coste+= sum(a)\n",
        "\n",
        "    return coste"
      ]
    },
    {
      "cell_type": "markdown",
      "metadata": {
        "id": "Ii5V8FSNdcY_"
      },
      "source": [
        "El coste computacional de esta función es $ \\mathcal{O}(n^{3}) $"
      ]
    },
    {
      "cell_type": "markdown",
      "metadata": {
        "id": "b8oFMt5cdcY_"
      },
      "source": [
        "Finalmente, recorriendo todas las soluciones, calculando el coste de cada una y obteniendo el mínimo de ellos:"
      ]
    },
    {
      "cell_type": "code",
      "execution_count": null,
      "metadata": {
        "id": "C4E2S6WbdcY_"
      },
      "outputs": [],
      "source": [
        "def fuerza_bruta(datos, min_al_dia, max_al_dia):\n",
        "    soluciones_tomas = combinaciones_tomas(datos, min_al_dia, max_al_dia)\n",
        "\n",
        "    mejor_sol = []\n",
        "    menor_coste = float('inf')\n",
        "\n",
        "    for solucion in soluciones_tomas:\n",
        "        coste_sol = coste_solucion(datos, solucion)\n",
        "        if coste_sol < menor_coste:\n",
        "            menor_coste = coste_sol\n",
        "            mejor_sol = solucion\n",
        "\n",
        "    return menor_coste, mejor_sol"
      ]
    },
    {
      "cell_type": "markdown",
      "metadata": {
        "id": "WTwx37JOdcZA"
      },
      "source": [
        "El coste computacional de esta función es $ \\mathcal{O}(n) $"
      ]
    },
    {
      "cell_type": "markdown",
      "metadata": {
        "id": "tgrnsC2nkFa8"
      },
      "source": [
        "Calcula la complejidad del algoritmo por fuerza bruta"
      ]
    },
    {
      "cell_type": "markdown",
      "metadata": {
        "id": "9eUd3xwckP68"
      },
      "source": [
        "**Respuesta**"
      ]
    },
    {
      "cell_type": "markdown",
      "metadata": {
        "id": "rvZWwL-ckRST"
      },
      "source": [
        "Tomando como referencia esta última función, cuyo coste computacional es $ \\mathcal{O}(n) $ y que la catidad de TOTAL soluciones que tiene que computar en el bucle es $ n! $ (todas las posibles permutaciones), el COSTE COMPUTACIONAL POR FUERZA BRUTA es $ \\mathcal{O}(n!) $"
      ]
    },
    {
      "cell_type": "markdown",
      "metadata": {
        "id": "txbrmLmskReM"
      },
      "source": [
        "### Mejora del algoritmo de fuerza bruta\n",
        "(*) Diseña un algoritmo que mejore la complejidad del algortimo por fuerza bruta. Argumenta porque crees que mejora el algoritmo por fuerza bruta"
      ]
    },
    {
      "cell_type": "markdown",
      "metadata": {
        "id": "hLrVwt5QkZPD"
      },
      "source": [
        "**Respuesta**"
      ]
    },
    {
      "cell_type": "markdown",
      "metadata": {
        "id": "Jn5Vr_qZdcZH"
      },
      "source": [
        "Cargamos los datos del archivo"
      ]
    },
    {
      "cell_type": "code",
      "execution_count": null,
      "metadata": {
        "id": "m1eyM21Vkabg",
        "outputId": "a365a824-ea99-4304-d294-606666e5a941"
      },
      "outputs": [
        {
          "data": {
            "text/plain": [
              "[['', 'Actor', '', '', '', '', '', '', '', '', '', '', ''],\n",
              " ['Toma', '1', '2', '3', '4', '5', '6', '7', '8', '9', '10', '', 'Total'],\n",
              " ['1', '1', '1', '1', '1', '1', '0', '0', '0', '0', '0', '', '5'],\n",
              " ['2', '0', '0', '1', '1', '1', '0', '0', '0', '0', '0', '', '3'],\n",
              " ['3', '0', '1', '0', '0', '1', '0', '1', '0', '0', '0', '', '3'],\n",
              " ['4', '1', '1', '0', '0', '0', '0', '1', '1', '0', '0', '', '4'],\n",
              " ['5', '0', '1', '0', '1', '0', '0', '0', '1', '0', '0', '', '3'],\n",
              " ['6', '1', '1', '0', '1', '1', '0', '0', '0', '0', '0', '', '4'],\n",
              " ['7', '1', '1', '0', '1', '1', '0', '0', '0', '0', '0', '', '4'],\n",
              " ['8', '1', '1', '0', '0', '0', '1', '0', '0', '0', '0', '', '3']]"
            ]
          },
          "metadata": {},
          "output_type": "display_data"
        },
        {
          "data": {
            "text/plain": [
              "'...'"
            ]
          },
          "metadata": {},
          "output_type": "display_data"
        },
        {
          "data": {
            "text/plain": [
              "[['28', '1', '0', '0', '1', '0', '0', '0', '0', '0', '0', '', '2'],\n",
              " ['29', '1', '0', '0', '0', '1', '1', '0', '0', '0', '0', '', '3'],\n",
              " ['30', '1', '0', '0', '1', '0', '0', '0', '0', '0', '0', '', '2'],\n",
              " ['', '', '', '', '', '', '', '', '', '', '', '', ''],\n",
              " ['TOTAL', '22', '14', '13', '15', '11', '8', '3', '4', '2', '2', '', '']]"
            ]
          },
          "metadata": {},
          "output_type": "display_data"
        }
      ],
      "source": [
        "datos = []\n",
        "\n",
        "with open('Datos problema doblaje.csv', newline='') as csvfile:\n",
        "    csv_reader = csv.reader(csvfile, delimiter=',')\n",
        "    for row in csv_reader:\n",
        "        datos.append(row)\n",
        "\n",
        "display(datos[:10], '...', datos[-5:])"
      ]
    },
    {
      "cell_type": "markdown",
      "metadata": {
        "id": "EqaNpBXodcZI"
      },
      "source": [
        "El coste computacional de esta función es $ \\mathcal{O}(n) $"
      ]
    },
    {
      "cell_type": "markdown",
      "metadata": {
        "id": "AnRrzLuMdcZJ"
      },
      "source": [
        "Eliminamos los datos innecesarios para la estructura de datos elegida"
      ]
    },
    {
      "cell_type": "code",
      "execution_count": null,
      "metadata": {
        "id": "u_5CH1oVdcZJ",
        "outputId": "a39ffe48-031f-41d2-fe7f-48d43e9c0dd1"
      },
      "outputs": [
        {
          "data": {
            "text/plain": [
              "[[1, 1, 1, 1, 1, 0, 0, 0, 0, 0],\n",
              " [0, 0, 1, 1, 1, 0, 0, 0, 0, 0],\n",
              " [0, 1, 0, 0, 1, 0, 1, 0, 0, 0],\n",
              " [1, 1, 0, 0, 0, 0, 1, 1, 0, 0],\n",
              " [0, 1, 0, 1, 0, 0, 0, 1, 0, 0]]"
            ]
          },
          "metadata": {},
          "output_type": "display_data"
        },
        {
          "data": {
            "text/plain": [
              "'...'"
            ]
          },
          "metadata": {},
          "output_type": "display_data"
        },
        {
          "data": {
            "text/plain": [
              "[[1, 0, 1, 0, 1, 0, 0, 0, 1, 0],\n",
              " [0, 0, 0, 1, 1, 0, 0, 0, 0, 0],\n",
              " [1, 0, 0, 1, 0, 0, 0, 0, 0, 0],\n",
              " [1, 0, 0, 0, 1, 1, 0, 0, 0, 0],\n",
              " [1, 0, 0, 1, 0, 0, 0, 0, 0, 0]]"
            ]
          },
          "metadata": {},
          "output_type": "display_data"
        }
      ],
      "source": [
        "datos = [list(map(int, row[1:-2])) for row in datos[2:-2]]\n",
        "\n",
        "display(datos[:5], '...', datos[-5:])"
      ]
    },
    {
      "cell_type": "markdown",
      "metadata": {
        "id": "2QPgIzwcdcZJ"
      },
      "source": [
        "El coste computacional de esta función es $ \\mathcal{O}(n) $"
      ]
    },
    {
      "cell_type": "markdown",
      "metadata": {
        "id": "RKa96oxjdcZK"
      },
      "source": [
        "Definimos las constantes del problema y un vector solución inicializado a cero (ninguna toma tiene asignado día de realización del doblaje)"
      ]
    },
    {
      "cell_type": "code",
      "execution_count": null,
      "metadata": {
        "id": "YPUBwyxtdcZK",
        "outputId": "4cdad1e0-1f7c-4fa8-fde4-edc943fdfb1e"
      },
      "outputs": [
        {
          "name": "stdout",
          "output_type": "stream",
          "text": [
            "[0, 0, 0, 0, 0, 0, 0, 0, 0, 0, 0, 0, 0, 0, 0, 0, 0, 0, 0, 0, 0, 0, 0, 0, 0, 0, 0, 0, 0, 0]\n",
            "Numero de tomas: 30\n",
            "Numero de actores: 10\n"
          ]
        }
      ],
      "source": [
        "MIN_AL_DIA = 1  # Al menos 1 toma al día\n",
        "MAX_AL_DIA = 6  # Como máximo 6 tomas al día\n",
        "tomas = [0] * len(datos)\n",
        "num_actores = len(datos[0])\n",
        "\n",
        "print(tomas)\n",
        "\n",
        "print(f\"Numero de tomas: {len(tomas)}\")\n",
        "print(f\"Numero de actores: {num_actores}\")"
      ]
    },
    {
      "cell_type": "markdown",
      "metadata": {
        "id": "tjU4zxzsdcZL"
      },
      "source": [
        "Creamos una función que dados un conjunto de tomas y un número de tomas por día (constante), de manera voraz, vaya asignando a cada toma un día de doblaje de tal manera que asigne consecutivamente todas las tomas que corresponden a un actor, y una vez completadas todas las tomas, pasa al siguiente actor. El actor por el que empieza también es un parámetro de la función y si no se indica, se empezará por el primero."
      ]
    },
    {
      "cell_type": "code",
      "execution_count": null,
      "metadata": {
        "id": "J3rYChu5dcZL"
      },
      "outputs": [],
      "source": [
        "def escenas_x_dia_greedy(tomas, tamanyo, actor=1):\n",
        "    actor -= 1\n",
        "    num_actores = len(tomas[0])\n",
        "    long = len(tomas)\n",
        "    solucion = [0] * long\n",
        "\n",
        "    toma_dia = 0\n",
        "    dia = 0\n",
        "    for act in range(num_actores):\n",
        "        a = (act + actor) % num_actores\n",
        "        for i, toma in enumerate(tomas):\n",
        "            if toma[a] == 1 and solucion[i] == 0:\n",
        "                toma_dia += 1\n",
        "                solucion[i] = dia + 1\n",
        "                if toma_dia + 1 > tamanyo:\n",
        "                    dia += 1\n",
        "                    toma_dia = 0\n",
        "\n",
        "    return solucion"
      ]
    },
    {
      "cell_type": "markdown",
      "metadata": {
        "id": "FUF45W8AdcZL"
      },
      "source": [
        "El coste computacional de esta función es $ \\mathcal{O}(n^{2}) $"
      ]
    },
    {
      "cell_type": "markdown",
      "metadata": {
        "id": "w57z_44GdcZM"
      },
      "source": [
        "Para cada solución, buscaremos las soluciones vecinas (Búsqueda local) para ver si mejoran las solucion de partida:"
      ]
    },
    {
      "cell_type": "code",
      "execution_count": null,
      "metadata": {
        "id": "PLPyrbiPdcZM"
      },
      "outputs": [],
      "source": [
        "def genera_vecina(datos, solucion):\n",
        "    mejor_sol = []\n",
        "    menor_coste = float('inf')\n",
        "\n",
        "    it_sin_mejora = 0\n",
        "    max_it_sin_mejora = math.ceil(0.2 * len(solucion))    # Si no mejora en el 20% de la long. de soluciones, se detiene\n",
        "    for i in range(1, len(solucion) - 1):\n",
        "        for j in range(i + 1, len(solucion)):\n",
        "            # Intercambiamos si los valores son distintos\n",
        "            if solucion[i] != solucion[j]:\n",
        "                vecina = solucion[:i] + [solucion[j]] + solucion[i + 1:j] + [solucion[i]] + solucion[j + 1:]\n",
        "                coste_vecina = coste_solucion(datos, vecina)\n",
        "\n",
        "                if coste_vecina <= menor_coste:\n",
        "                    menor_coste = coste_vecina\n",
        "                    mejor_sol = vecina\n",
        "                    it_sin_mejora = 0\n",
        "                else:\n",
        "                    it_sin_mejora += 1\n",
        "            if it_sin_mejora >= max_it_sin_mejora:\n",
        "                break\n",
        "        if it_sin_mejora >= max_it_sin_mejora:\n",
        "                break\n",
        "\n",
        "    return menor_coste, mejor_sol"
      ]
    },
    {
      "cell_type": "markdown",
      "metadata": {
        "id": "Ac8F06R7dcZM"
      },
      "source": [
        "El coste computacional de esta función es $ \\mathcal{O}(n^{2}) $"
      ]
    },
    {
      "cell_type": "markdown",
      "metadata": {
        "id": "EjHrcFZydcZM"
      },
      "source": [
        "Generamos soluciones desde 1 toma por día hasta 6 tomas por día y repartiendo las escenas, iniciando por cada uno de los distintos actores"
      ]
    },
    {
      "cell_type": "code",
      "execution_count": null,
      "metadata": {
        "id": "J5S54xA-dcZN"
      },
      "outputs": [],
      "source": [
        "def algoritmo_mejorado(datos, min_al_dia, max_al_dia):\n",
        "    poblacion = []\n",
        "    num_actores = len(datos[0])\n",
        "\n",
        "    for r in range(min_al_dia, max_al_dia + 1):\n",
        "        for a in range(1, num_actores + 1):\n",
        "            sol = escenas_x_dia_greedy(datos, r, a)\n",
        "            if sol not in poblacion:\n",
        "                poblacion.append(sol)\n",
        "\n",
        "    print(f\"Total soluciones generadas: {len(poblacion)}\")\n",
        "\n",
        "    mejor_sol = []\n",
        "    menor_coste = float('inf')\n",
        "\n",
        "    for solucion in poblacion:\n",
        "        coste_sol = coste_solucion(datos, solucion)\n",
        "        if coste_sol < menor_coste:\n",
        "            menor_coste = coste_sol\n",
        "            mejor_sol = solucion\n",
        "\n",
        "        mejor_coste_vecina, mejor_sol_vecina = genera_vecina(datos, solucion)\n",
        "        if mejor_coste_vecina < menor_coste:\n",
        "            menor_coste = mejor_coste_vecina\n",
        "            mejor_sol = mejor_sol_vecina\n",
        "\n",
        "    return menor_coste, mejor_sol"
      ]
    },
    {
      "cell_type": "markdown",
      "metadata": {
        "id": "_rNqnFytdcZN"
      },
      "source": [
        "El coste computacional de esta función es $ \\mathcal{O}(n^{2} \\times n^{2}) = \\mathcal{O}(n^{4}) $"
      ]
    },
    {
      "cell_type": "code",
      "execution_count": null,
      "metadata": {
        "id": "PVfYTRtadcZN",
        "outputId": "a6201969-e78c-47cf-c4c1-c139297ee843"
      },
      "outputs": [
        {
          "name": "stdout",
          "output_type": "stream",
          "text": [
            "Total soluciones generadas: 60\n",
            "Menor coste : 31 \n",
            "Mejor solución:  [1, 1, 1, 4, 4, 1, 1, 2, 4, 3, 1, 3, 2, 3, 4, 4, 5, 3, 5, 2, 3, 5, 5, 3, 4, 2, 2, 5, 2, 5]\n",
            "Jornadas de doblaje:  {1, 2, 3, 4, 5}\n",
            "- La toma  1 se doblará el día 1\n",
            "- La toma  2 se doblará el día 1\n",
            "- La toma  3 se doblará el día 1\n",
            "- La toma  4 se doblará el día 4\n",
            "- La toma  5 se doblará el día 4\n",
            "- La toma  6 se doblará el día 1\n",
            "- La toma  7 se doblará el día 1\n",
            "- La toma  8 se doblará el día 2\n",
            "- La toma  9 se doblará el día 4\n",
            "- La toma 10 se doblará el día 3\n",
            "- La toma 11 se doblará el día 1\n",
            "- La toma 12 se doblará el día 3\n",
            "- La toma 13 se doblará el día 2\n",
            "- La toma 14 se doblará el día 3\n",
            "- La toma 15 se doblará el día 4\n",
            "- La toma 16 se doblará el día 4\n",
            "- La toma 17 se doblará el día 5\n",
            "- La toma 18 se doblará el día 3\n",
            "- La toma 19 se doblará el día 5\n",
            "- La toma 20 se doblará el día 2\n",
            "- La toma 21 se doblará el día 3\n",
            "- La toma 22 se doblará el día 5\n",
            "- La toma 23 se doblará el día 5\n",
            "- La toma 24 se doblará el día 3\n",
            "- La toma 25 se doblará el día 4\n",
            "- La toma 26 se doblará el día 2\n",
            "- La toma 27 se doblará el día 2\n",
            "- La toma 28 se doblará el día 5\n",
            "- La toma 29 se doblará el día 2\n",
            "- La toma 30 se doblará el día 5\n"
          ]
        }
      ],
      "source": [
        "min_coste, best_sol = algoritmo_mejorado(datos, MIN_AL_DIA, MAX_AL_DIA)\n",
        "print(\"Menor coste :\",min_coste,\"\\nMejor solución: \" , best_sol)\n",
        "print(\"Jornadas de doblaje: \", set(best_sol))\n",
        "\n",
        "for i, sol in enumerate(best_sol):\n",
        "    print(f\"- La toma {i+1:2d} se doblará el día {sol}\")"
      ]
    },
    {
      "cell_type": "markdown",
      "metadata": {
        "id": "eGDB4K6uk1iN"
      },
      "source": [
        "(*) Calcula la complejidad del algoritmo"
      ]
    },
    {
      "cell_type": "markdown",
      "metadata": {
        "id": "NhpTh_BPk1ms"
      },
      "source": [
        "**Respuesta**"
      ]
    },
    {
      "cell_type": "markdown",
      "metadata": {
        "id": "vMn_hvRmdcZO"
      },
      "source": [
        "Teniendo en cuenta las llamadas a funciones anidadas, y que la generación de soluciones inicial arroja un total de soluciones igual a $ n \\times r $, es decir, el producto del numéro de escenas por los distintos valores que pueden tomar las restricciones (número máximo de tomas al día), el coste computacional del algoritmo es $ \\mathcal{O}(n^{4}) $\n",
        "\n",
        "El algoritmo mejora a la fuerza bruta en cuanto reduce el espacio de búsqueda de soluciones frente a la búsqueda de la mejor solución entre todas las soluciones posibles, aunque es necesario generar más soluciones para explorar más posibilidades."
      ]
    },
    {
      "cell_type": "markdown",
      "metadata": {
        "id": "3M6QjTsSkmYe"
      },
      "source": [
        "Según el problema (y tenga sentido), diseña un juego de datos de entrada aleatorios"
      ]
    },
    {
      "cell_type": "markdown",
      "metadata": {
        "id": "Jc3_OlyNkvjZ"
      },
      "source": [
        "**Respuesta**"
      ]
    },
    {
      "cell_type": "markdown",
      "metadata": {
        "id": "gRaEU2VsdcZP"
      },
      "source": [
        "Creamos una función que reparta las distintas tomas de manera aleatoria por días, entre un intervalo mínimo y máximo de tomas por cada día"
      ]
    },
    {
      "cell_type": "code",
      "execution_count": null,
      "metadata": {
        "id": "ythhxJRddcZP"
      },
      "outputs": [],
      "source": [
        "def escenas_x_dia_random(tomas, min_tam, max_tam):\n",
        "    long = len(tomas)\n",
        "    lista = [x for x in range(long)]\n",
        "    grupos = []\n",
        "    solucion = [0] * long\n",
        "\n",
        "    while long > max_tam:\n",
        "        tam = np.random.randint(min_tam, max_tam + 1)\n",
        "        grupos.append(tam)\n",
        "        long -= tam\n",
        "    grupos.append(long)\n",
        "\n",
        "    for dia in range(len(grupos)):\n",
        "        for _ in range(grupos[dia]):\n",
        "            seleccion = random.choice(lista)\n",
        "            solucion[seleccion] = dia + 1\n",
        "            lista.remove(seleccion)\n",
        "\n",
        "    return solucion"
      ]
    },
    {
      "cell_type": "markdown",
      "metadata": {
        "id": "gX12prwVdcZQ"
      },
      "source": [
        "El coste computacional de esta función es $ \\mathcal{O}(n^{2}) $"
      ]
    },
    {
      "cell_type": "markdown",
      "metadata": {
        "id": "zy5ZROmjlGo1"
      },
      "source": [
        "Aplica el algoritmo al juego de datos generado"
      ]
    },
    {
      "cell_type": "markdown",
      "metadata": {
        "id": "_Cmj-PVylMsa"
      },
      "source": [
        "**Respuesta**"
      ]
    },
    {
      "cell_type": "markdown",
      "metadata": {
        "id": "kfrnS1hQdcZQ"
      },
      "source": [
        "Al conjunto de soluciones anterior le añadimos las soluciones generadas aleatoriamente, para cada combinacion entre parámetros mínimo y máximo, crearemos 20 veces más soluciones como en el conjunto anterior."
      ]
    },
    {
      "cell_type": "code",
      "execution_count": null,
      "metadata": {
        "id": "Jkx8GeiYlUz1"
      },
      "outputs": [],
      "source": [
        "def algoritmo_mejorado_aleatorio(datos, min_al_dia, max_al_dia):\n",
        "    poblacion = []\n",
        "    num_actores = len(datos[0])\n",
        "\n",
        "    for r in range(min_al_dia, max_al_dia + 1):\n",
        "        for a in range(1, num_actores + 1):\n",
        "            sol = escenas_x_dia_greedy(datos, r, a)\n",
        "            if sol not in poblacion:\n",
        "                poblacion.append(sol)\n",
        "\n",
        "    num_sol_random = len(poblacion) * 20\n",
        "\n",
        "    for i in range(min_al_dia, max_al_dia + 1):\n",
        "        for j in range(i, max_al_dia + 1):\n",
        "            for _ in range(num_sol_random):\n",
        "                sol = escenas_x_dia_random(datos, i, j)\n",
        "                if sol not in poblacion:\n",
        "                    poblacion.append(sol)\n",
        "\n",
        "    print(f\"Total soluciones generadas: {len(poblacion)}\")\n",
        "\n",
        "    mejor_sol = []\n",
        "    menor_coste = float('inf')\n",
        "\n",
        "    for solucion in poblacion:\n",
        "        coste_sol = coste_solucion(datos, solucion)\n",
        "        if coste_sol < menor_coste:\n",
        "            menor_coste = coste_sol\n",
        "            mejor_sol = solucion\n",
        "\n",
        "        mejor_coste_vecina, mejor_sol_vecina = genera_vecina(datos, solucion)\n",
        "        if mejor_coste_vecina < menor_coste:\n",
        "            menor_coste = mejor_coste_vecina\n",
        "            mejor_sol = mejor_sol_vecina\n",
        "\n",
        "    return menor_coste, mejor_sol"
      ]
    },
    {
      "cell_type": "code",
      "execution_count": null,
      "metadata": {
        "id": "dEkm4CUCdcZR",
        "outputId": "f08d956c-9dc7-4a84-a04c-afb99f673691"
      },
      "outputs": [
        {
          "name": "stdout",
          "output_type": "stream",
          "text": [
            "Total soluciones generadas: 25260\n",
            "Menor coste : 31 \n",
            "Mejor solución:  [1, 1, 1, 4, 4, 1, 1, 2, 4, 3, 1, 3, 2, 3, 4, 4, 5, 3, 5, 2, 3, 5, 5, 3, 4, 2, 2, 5, 2, 5]\n",
            "Jornadas de doblaje:  {1, 2, 3, 4, 5}\n",
            "- La toma  1 se doblará el día 1\n",
            "- La toma  2 se doblará el día 1\n",
            "- La toma  3 se doblará el día 1\n",
            "- La toma  4 se doblará el día 4\n",
            "- La toma  5 se doblará el día 4\n",
            "- La toma  6 se doblará el día 1\n",
            "- La toma  7 se doblará el día 1\n",
            "- La toma  8 se doblará el día 2\n",
            "- La toma  9 se doblará el día 4\n",
            "- La toma 10 se doblará el día 3\n",
            "- La toma 11 se doblará el día 1\n",
            "- La toma 12 se doblará el día 3\n",
            "- La toma 13 se doblará el día 2\n",
            "- La toma 14 se doblará el día 3\n",
            "- La toma 15 se doblará el día 4\n",
            "- La toma 16 se doblará el día 4\n",
            "- La toma 17 se doblará el día 5\n",
            "- La toma 18 se doblará el día 3\n",
            "- La toma 19 se doblará el día 5\n",
            "- La toma 20 se doblará el día 2\n",
            "- La toma 21 se doblará el día 3\n",
            "- La toma 22 se doblará el día 5\n",
            "- La toma 23 se doblará el día 5\n",
            "- La toma 24 se doblará el día 3\n",
            "- La toma 25 se doblará el día 4\n",
            "- La toma 26 se doblará el día 2\n",
            "- La toma 27 se doblará el día 2\n",
            "- La toma 28 se doblará el día 5\n",
            "- La toma 29 se doblará el día 2\n",
            "- La toma 30 se doblará el día 5\n"
          ]
        }
      ],
      "source": [
        "min_coste_random, best_sol_random = algoritmo_mejorado_aleatorio(datos, MIN_AL_DIA, MAX_AL_DIA)\n",
        "print(\"Menor coste :\",min_coste_random,\"\\nMejor solución: \" , best_sol_random)\n",
        "print(\"Jornadas de doblaje: \", set(best_sol_random))\n",
        "\n",
        "for i, sol in enumerate(best_sol_random):\n",
        "    print(f\"- La toma {i+1:2d} se doblará el día {sol}\")\n"
      ]
    },
    {
      "cell_type": "markdown",
      "metadata": {
        "id": "kN2LnRS0dcZS"
      },
      "source": [
        "Pese a las soluciones exploradas, no se mejora la obtenida inicialmente por el algorítmo voraz.\n",
        "\n",
        "El menor coste sería 31, en 5 sesiones de doblaje"
      ]
    },
    {
      "cell_type": "markdown",
      "metadata": {
        "id": "eTFWUJQrtGcv"
      },
      "source": [
        "### Referencias\n",
        "Enumera las referencias que has utilizado (si ha sido necesario) para llevar a cabo el trabajo"
      ]
    },
    {
      "cell_type": "markdown",
      "metadata": {
        "id": "YKQ_mRBttWsP"
      },
      "source": [
        "**Respuesta**"
      ]
    },
    {
      "cell_type": "markdown",
      "metadata": {
        "id": "hAk_YvpRdcZT"
      },
      "source": [
        "- [Documentación la librería $itertools$ de Python](https://docs.python.org/es/dev/library/itertools.html)\n",
        "- 'Apuntes de Algorítmica' - A. Marzal, M.J. Castro y P. Aibar - Universidad Politécnica de Valencia"
      ]
    },
    {
      "cell_type": "markdown",
      "metadata": {
        "id": "kAkDPUyRtYyH"
      },
      "source": [
        "### Trabajos futuros\n",
        "Describe brevemente las lineas de como crees que es posible avanzar en el estudio del problema. Ten en cuenta incluso posibles variaciones del problema y/o variaciones al alza del tamaño"
      ]
    },
    {
      "cell_type": "markdown",
      "metadata": {
        "id": "IE0uZmo-tZu-"
      },
      "source": [
        "**Respuesta**"
      ]
    },
    {
      "cell_type": "markdown",
      "metadata": {
        "id": "wcCT_qu2dcZT"
      },
      "source": [
        "El algorítmo voraz que genera las primeras soluciones podría modificarse de tal modo que, en vez de ir asignando sucesivamente a los actores, lo haga ordanadamente: de aquellos con más tomas a doblar primero a aquellos con menos al final. Una técnica similar es utilizada en problemas de \"Selección de actividades\" y resuelta con algorítmos voraces obteniendo la solución óptima.\n",
        "\n",
        "Para mejorar la solución al problema se podrían aplicar técnicas de algoritmos genéticos, realizando mutaciones de soluciones y cruces entre ellas, siendo necesario comprobar la factibilidad de las soluciones generadas por estos métodos ya que podría no cumplir con las restricciones del problema."
      ]
    },
    {
      "cell_type": "markdown",
      "metadata": {
        "id": "33S2hF6mdcZU"
      },
      "source": [
        "### Invirtiendo los datos de entrada\n",
        "\n",
        "Si cambiamos los datos de entrada, invirtiendo los actores que participan en la toma por ausencia, y viceversa"
      ]
    },
    {
      "cell_type": "markdown",
      "metadata": {
        "id": "HJNtiZ4MdcZU"
      },
      "source": [
        "Cargamos de nuevo los datos"
      ]
    },
    {
      "cell_type": "code",
      "execution_count": null,
      "metadata": {
        "id": "hHeME_XGdcZU",
        "outputId": "649b26a6-6fb6-4d0c-ed7c-c4ab780fd8e2"
      },
      "outputs": [
        {
          "data": {
            "text/plain": [
              "[['', 'Actor', '', '', '', '', '', '', '', '', '', '', ''],\n",
              " ['Toma', '1', '2', '3', '4', '5', '6', '7', '8', '9', '10', '', 'Total'],\n",
              " ['1', '1', '1', '1', '1', '1', '0', '0', '0', '0', '0', '', '5'],\n",
              " ['2', '0', '0', '1', '1', '1', '0', '0', '0', '0', '0', '', '3'],\n",
              " ['3', '0', '1', '0', '0', '1', '0', '1', '0', '0', '0', '', '3'],\n",
              " ['4', '1', '1', '0', '0', '0', '0', '1', '1', '0', '0', '', '4'],\n",
              " ['5', '0', '1', '0', '1', '0', '0', '0', '1', '0', '0', '', '3'],\n",
              " ['6', '1', '1', '0', '1', '1', '0', '0', '0', '0', '0', '', '4'],\n",
              " ['7', '1', '1', '0', '1', '1', '0', '0', '0', '0', '0', '', '4'],\n",
              " ['8', '1', '1', '0', '0', '0', '1', '0', '0', '0', '0', '', '3']]"
            ]
          },
          "metadata": {},
          "output_type": "display_data"
        },
        {
          "data": {
            "text/plain": [
              "'...'"
            ]
          },
          "metadata": {},
          "output_type": "display_data"
        },
        {
          "data": {
            "text/plain": [
              "[['28', '1', '0', '0', '1', '0', '0', '0', '0', '0', '0', '', '2'],\n",
              " ['29', '1', '0', '0', '0', '1', '1', '0', '0', '0', '0', '', '3'],\n",
              " ['30', '1', '0', '0', '1', '0', '0', '0', '0', '0', '0', '', '2'],\n",
              " ['', '', '', '', '', '', '', '', '', '', '', '', ''],\n",
              " ['TOTAL', '22', '14', '13', '15', '11', '8', '3', '4', '2', '2', '', '']]"
            ]
          },
          "metadata": {},
          "output_type": "display_data"
        }
      ],
      "source": [
        "datos = []\n",
        "\n",
        "with open('Datos problema doblaje.csv', newline='') as csvfile:\n",
        "    csv_reader = csv.reader(csvfile, delimiter=',')\n",
        "    for row in csv_reader:\n",
        "        datos.append(row)\n",
        "\n",
        "display(datos[:10], '...', datos[-5:])"
      ]
    },
    {
      "cell_type": "code",
      "execution_count": null,
      "metadata": {
        "id": "8XOEL0btdcZV",
        "outputId": "d8d917da-7c45-44da-d60e-5d759996e3b0"
      },
      "outputs": [
        {
          "data": {
            "text/plain": [
              "[[1, 1, 1, 1, 1, 0, 0, 0, 0, 0],\n",
              " [0, 0, 1, 1, 1, 0, 0, 0, 0, 0],\n",
              " [0, 1, 0, 0, 1, 0, 1, 0, 0, 0],\n",
              " [1, 1, 0, 0, 0, 0, 1, 1, 0, 0],\n",
              " [0, 1, 0, 1, 0, 0, 0, 1, 0, 0]]"
            ]
          },
          "metadata": {},
          "output_type": "display_data"
        },
        {
          "data": {
            "text/plain": [
              "'...'"
            ]
          },
          "metadata": {},
          "output_type": "display_data"
        },
        {
          "data": {
            "text/plain": [
              "[[1, 0, 1, 0, 1, 0, 0, 0, 1, 0],\n",
              " [0, 0, 0, 1, 1, 0, 0, 0, 0, 0],\n",
              " [1, 0, 0, 1, 0, 0, 0, 0, 0, 0],\n",
              " [1, 0, 0, 0, 1, 1, 0, 0, 0, 0],\n",
              " [1, 0, 0, 1, 0, 0, 0, 0, 0, 0]]"
            ]
          },
          "metadata": {},
          "output_type": "display_data"
        }
      ],
      "source": [
        "datos = [list(map(int, row[1:-2])) for row in datos[2:-2]]\n",
        "\n",
        "display(datos[:5], '...', datos[-5:])"
      ]
    },
    {
      "cell_type": "code",
      "execution_count": null,
      "metadata": {
        "id": "rLc_9Z0bdcZV",
        "outputId": "04427375-0986-4b22-e36a-eebc131e2721"
      },
      "outputs": [
        {
          "data": {
            "text/plain": [
              "[[0, 0, 0, 0, 0, 1, 1, 1, 1, 1],\n",
              " [1, 1, 0, 0, 0, 1, 1, 1, 1, 1],\n",
              " [1, 0, 1, 1, 0, 1, 0, 1, 1, 1],\n",
              " [0, 0, 1, 1, 1, 1, 0, 0, 1, 1],\n",
              " [1, 0, 1, 0, 1, 1, 1, 0, 1, 1],\n",
              " [0, 0, 1, 0, 0, 1, 1, 1, 1, 1],\n",
              " [0, 0, 1, 0, 0, 1, 1, 1, 1, 1],\n",
              " [0, 0, 1, 1, 1, 0, 1, 1, 1, 1],\n",
              " [0, 0, 1, 0, 1, 1, 1, 1, 1, 1],\n",
              " [0, 0, 1, 1, 1, 0, 1, 1, 0, 1]]"
            ]
          },
          "metadata": {},
          "output_type": "display_data"
        },
        {
          "data": {
            "text/plain": [
              "'...'"
            ]
          },
          "metadata": {},
          "output_type": "display_data"
        },
        {
          "data": {
            "text/plain": [
              "[[0, 1, 0, 1, 0, 1, 1, 1, 0, 1],\n",
              " [1, 1, 1, 0, 0, 1, 1, 1, 1, 1],\n",
              " [0, 1, 1, 0, 1, 1, 1, 1, 1, 1],\n",
              " [0, 1, 1, 1, 0, 0, 1, 1, 1, 1],\n",
              " [0, 1, 1, 0, 1, 1, 1, 1, 1, 1]]"
            ]
          },
          "metadata": {},
          "output_type": "display_data"
        }
      ],
      "source": [
        "datos_inv = copy.deepcopy(datos)\n",
        "for toma in range(len(datos)):\n",
        "    for actor in range(len(datos[toma])):\n",
        "        datos_inv[toma][actor] = 0 if datos[toma][actor] == 1 else 1\n",
        "\n",
        "display(datos_inv[:10], '...', datos_inv[-5:])"
      ]
    },
    {
      "cell_type": "markdown",
      "metadata": {
        "id": "7EECPs1adcZV"
      },
      "source": [
        "Calculamos la mejor solución con el algoritmo mejorado"
      ]
    },
    {
      "cell_type": "code",
      "execution_count": null,
      "metadata": {
        "id": "1_AjpG3AdcZW",
        "outputId": "6b8842a9-ccf6-4d3d-e402-96e1405f8327"
      },
      "outputs": [
        {
          "name": "stdout",
          "output_type": "stream",
          "text": [
            "Total soluciones generadas: 60\n"
          ]
        },
        {
          "name": "stdout",
          "output_type": "stream",
          "text": [
            "Menor coste : 45 \n",
            "Mejor solución:  [5, 1, 1, 4, 1, 4, 4, 4, 4, 4, 5, 5, 2, 2, 5, 1, 2, 1, 2, 3, 1, 5, 3, 2, 5, 3, 2, 3, 3, 3]\n",
            "Jornadas de doblaje:  {1, 2, 3, 4, 5}\n",
            "- La toma  1 se doblará el día 5\n",
            "- La toma  2 se doblará el día 1\n",
            "- La toma  3 se doblará el día 1\n",
            "- La toma  4 se doblará el día 4\n",
            "- La toma  5 se doblará el día 1\n",
            "- La toma  6 se doblará el día 4\n",
            "- La toma  7 se doblará el día 4\n",
            "- La toma  8 se doblará el día 4\n",
            "- La toma  9 se doblará el día 4\n",
            "- La toma 10 se doblará el día 4\n",
            "- La toma 11 se doblará el día 5\n",
            "- La toma 12 se doblará el día 5\n",
            "- La toma 13 se doblará el día 2\n",
            "- La toma 14 se doblará el día 2\n",
            "- La toma 15 se doblará el día 5\n",
            "- La toma 16 se doblará el día 1\n",
            "- La toma 17 se doblará el día 2\n",
            "- La toma 18 se doblará el día 1\n",
            "- La toma 19 se doblará el día 2\n",
            "- La toma 20 se doblará el día 3\n",
            "- La toma 21 se doblará el día 1\n",
            "- La toma 22 se doblará el día 5\n",
            "- La toma 23 se doblará el día 3\n",
            "- La toma 24 se doblará el día 2\n",
            "- La toma 25 se doblará el día 5\n",
            "- La toma 26 se doblará el día 3\n",
            "- La toma 27 se doblará el día 2\n",
            "- La toma 28 se doblará el día 3\n",
            "- La toma 29 se doblará el día 3\n",
            "- La toma 30 se doblará el día 3\n"
          ]
        }
      ],
      "source": [
        "min_coste_inv, best_sol_inv = algoritmo_mejorado(datos_inv, MIN_AL_DIA, MAX_AL_DIA)\n",
        "print(\"Menor coste :\",min_coste_inv,\"\\nMejor solución: \" , best_sol_inv)\n",
        "print(\"Jornadas de doblaje: \", set(best_sol_inv))\n",
        "\n",
        "for i, sol in enumerate(best_sol_inv):\n",
        "    print(f\"- La toma {i+1:2d} se doblará el día {sol}\")"
      ]
    },
    {
      "cell_type": "markdown",
      "metadata": {
        "id": "o3RudIwTdcZW"
      },
      "source": [
        "Calculamos la mejor solución con el algoritmo mejorado, incluyendo aleatoriedad"
      ]
    },
    {
      "cell_type": "code",
      "execution_count": null,
      "metadata": {
        "id": "RFFcNi7AdcZW",
        "outputId": "e14e8dda-bcd3-4172-f189-8c09b72b3710"
      },
      "outputs": [
        {
          "name": "stdout",
          "output_type": "stream",
          "text": [
            "Total soluciones generadas: 25260\n",
            "Menor coste : 45 \n",
            "Mejor solución:  [5, 1, 1, 4, 1, 4, 4, 4, 4, 4, 5, 5, 2, 2, 5, 1, 2, 1, 2, 3, 1, 5, 3, 2, 5, 3, 2, 3, 3, 3]\n",
            "Jornadas de doblaje:  {1, 2, 3, 4, 5}\n",
            "- La toma  1 se doblará el día 5\n",
            "- La toma  2 se doblará el día 1\n",
            "- La toma  3 se doblará el día 1\n",
            "- La toma  4 se doblará el día 4\n",
            "- La toma  5 se doblará el día 1\n",
            "- La toma  6 se doblará el día 4\n",
            "- La toma  7 se doblará el día 4\n",
            "- La toma  8 se doblará el día 4\n",
            "- La toma  9 se doblará el día 4\n",
            "- La toma 10 se doblará el día 4\n",
            "- La toma 11 se doblará el día 5\n",
            "- La toma 12 se doblará el día 5\n",
            "- La toma 13 se doblará el día 2\n",
            "- La toma 14 se doblará el día 2\n",
            "- La toma 15 se doblará el día 5\n",
            "- La toma 16 se doblará el día 1\n",
            "- La toma 17 se doblará el día 2\n",
            "- La toma 18 se doblará el día 1\n",
            "- La toma 19 se doblará el día 2\n",
            "- La toma 20 se doblará el día 3\n",
            "- La toma 21 se doblará el día 1\n",
            "- La toma 22 se doblará el día 5\n",
            "- La toma 23 se doblará el día 3\n",
            "- La toma 24 se doblará el día 2\n",
            "- La toma 25 se doblará el día 5\n",
            "- La toma 26 se doblará el día 3\n",
            "- La toma 27 se doblará el día 2\n",
            "- La toma 28 se doblará el día 3\n",
            "- La toma 29 se doblará el día 3\n",
            "- La toma 30 se doblará el día 3\n"
          ]
        }
      ],
      "source": [
        "min_coste_random_inv, best_sol_random_inv = algoritmo_mejorado_aleatorio(datos_inv, MIN_AL_DIA, MAX_AL_DIA)\n",
        "print(\"Menor coste :\",min_coste_random_inv,\"\\nMejor solución: \" , best_sol_random_inv)\n",
        "print(\"Jornadas de doblaje: \", set(best_sol_random_inv))\n",
        "\n",
        "for i, sol in enumerate(best_sol_random_inv):\n",
        "    print(f\"- La toma {i+1:2d} se doblará el día {sol}\")"
      ]
    },
    {
      "cell_type": "markdown",
      "metadata": {
        "id": "QsJvhQHxdcZX"
      },
      "source": [
        "### Mezclando aleatoriamente las intervenciones de los actores en cada toma\n",
        "\n",
        "Si cambiamos los datos de entrada, mezclando aleatoriamente los actores que participan en cada toma."
      ]
    },
    {
      "cell_type": "markdown",
      "metadata": {
        "id": "2aPd_nRbdcZX"
      },
      "source": [
        "Cargamos de nuevo los datos"
      ]
    },
    {
      "cell_type": "code",
      "execution_count": null,
      "metadata": {
        "id": "u_kxJWOWdcZX",
        "outputId": "93147c9d-6b7d-4ab4-9b47-1de8cb17a2b0"
      },
      "outputs": [
        {
          "data": {
            "text/plain": [
              "[['', 'Actor', '', '', '', '', '', '', '', '', '', '', ''],\n",
              " ['Toma', '1', '2', '3', '4', '5', '6', '7', '8', '9', '10', '', 'Total'],\n",
              " ['1', '1', '1', '1', '1', '1', '0', '0', '0', '0', '0', '', '5'],\n",
              " ['2', '0', '0', '1', '1', '1', '0', '0', '0', '0', '0', '', '3'],\n",
              " ['3', '0', '1', '0', '0', '1', '0', '1', '0', '0', '0', '', '3'],\n",
              " ['4', '1', '1', '0', '0', '0', '0', '1', '1', '0', '0', '', '4'],\n",
              " ['5', '0', '1', '0', '1', '0', '0', '0', '1', '0', '0', '', '3'],\n",
              " ['6', '1', '1', '0', '1', '1', '0', '0', '0', '0', '0', '', '4'],\n",
              " ['7', '1', '1', '0', '1', '1', '0', '0', '0', '0', '0', '', '4'],\n",
              " ['8', '1', '1', '0', '0', '0', '1', '0', '0', '0', '0', '', '3']]"
            ]
          },
          "metadata": {},
          "output_type": "display_data"
        },
        {
          "data": {
            "text/plain": [
              "'...'"
            ]
          },
          "metadata": {},
          "output_type": "display_data"
        },
        {
          "data": {
            "text/plain": [
              "[['28', '1', '0', '0', '1', '0', '0', '0', '0', '0', '0', '', '2'],\n",
              " ['29', '1', '0', '0', '0', '1', '1', '0', '0', '0', '0', '', '3'],\n",
              " ['30', '1', '0', '0', '1', '0', '0', '0', '0', '0', '0', '', '2'],\n",
              " ['', '', '', '', '', '', '', '', '', '', '', '', ''],\n",
              " ['TOTAL', '22', '14', '13', '15', '11', '8', '3', '4', '2', '2', '', '']]"
            ]
          },
          "metadata": {},
          "output_type": "display_data"
        }
      ],
      "source": [
        "datos = []\n",
        "\n",
        "with open('Datos problema doblaje.csv', newline='') as csvfile:\n",
        "    csv_reader = csv.reader(csvfile, delimiter=',')\n",
        "    for row in csv_reader:\n",
        "        datos.append(row)\n",
        "\n",
        "display(datos[:10], '...', datos[-5:])"
      ]
    },
    {
      "cell_type": "code",
      "execution_count": null,
      "metadata": {
        "id": "GoqHbRHPdcZY",
        "outputId": "3f20642e-c07c-4ae3-c221-a179605ecdd2"
      },
      "outputs": [
        {
          "data": {
            "text/plain": [
              "[[1, 1, 1, 1, 1, 0, 0, 0, 0, 0],\n",
              " [0, 0, 1, 1, 1, 0, 0, 0, 0, 0],\n",
              " [0, 1, 0, 0, 1, 0, 1, 0, 0, 0],\n",
              " [1, 1, 0, 0, 0, 0, 1, 1, 0, 0],\n",
              " [0, 1, 0, 1, 0, 0, 0, 1, 0, 0]]"
            ]
          },
          "metadata": {},
          "output_type": "display_data"
        },
        {
          "data": {
            "text/plain": [
              "'...'"
            ]
          },
          "metadata": {},
          "output_type": "display_data"
        },
        {
          "data": {
            "text/plain": [
              "[[1, 0, 1, 0, 1, 0, 0, 0, 1, 0],\n",
              " [0, 0, 0, 1, 1, 0, 0, 0, 0, 0],\n",
              " [1, 0, 0, 1, 0, 0, 0, 0, 0, 0],\n",
              " [1, 0, 0, 0, 1, 1, 0, 0, 0, 0],\n",
              " [1, 0, 0, 1, 0, 0, 0, 0, 0, 0]]"
            ]
          },
          "metadata": {},
          "output_type": "display_data"
        }
      ],
      "source": [
        "datos = [list(map(int, row[1:-2])) for row in datos[2:-2]]\n",
        "\n",
        "display(datos[:5], '...', datos[-5:])"
      ]
    },
    {
      "cell_type": "code",
      "execution_count": null,
      "metadata": {
        "id": "L8_lUbFtdcZY",
        "outputId": "01438d02-4343-4579-ce74-939ea42a8946"
      },
      "outputs": [
        {
          "data": {
            "text/plain": [
              "[[0, 1, 1, 0, 0, 1, 1, 0, 0, 1],\n",
              " [1, 1, 0, 0, 0, 0, 1, 0, 0, 0],\n",
              " [0, 0, 1, 0, 0, 0, 1, 0, 1, 0],\n",
              " [1, 0, 1, 0, 0, 1, 1, 0, 0, 0],\n",
              " [1, 0, 0, 0, 0, 0, 1, 0, 1, 0]]"
            ]
          },
          "metadata": {},
          "output_type": "display_data"
        },
        {
          "data": {
            "text/plain": [
              "'...'"
            ]
          },
          "metadata": {},
          "output_type": "display_data"
        },
        {
          "data": {
            "text/plain": [
              "[[0, 0, 0, 1, 0, 0, 1, 1, 0, 1],\n",
              " [0, 0, 1, 0, 1, 0, 0, 0, 0, 0],\n",
              " [0, 0, 1, 0, 0, 1, 0, 0, 0, 0],\n",
              " [1, 1, 0, 0, 0, 0, 0, 0, 0, 1],\n",
              " [0, 0, 0, 0, 0, 1, 0, 1, 0, 0]]"
            ]
          },
          "metadata": {},
          "output_type": "display_data"
        }
      ],
      "source": [
        "datos_shuffle = copy.deepcopy(datos)\n",
        "for toma in range(len(datos_shuffle)):\n",
        "    random.shuffle(datos_shuffle[toma])\n",
        "\n",
        "display(datos_shuffle[:5], '...', datos_shuffle[-5:])"
      ]
    },
    {
      "cell_type": "markdown",
      "metadata": {
        "id": "TmG2i5JSdcZY"
      },
      "source": [
        "Calculamos la mejor solución con el algoritmo mejorado"
      ]
    },
    {
      "cell_type": "code",
      "execution_count": null,
      "metadata": {
        "id": "0Qto-jDUdcZZ",
        "outputId": "df6abfeb-1d24-48be-8305-d9a6acc4f888"
      },
      "outputs": [
        {
          "name": "stdout",
          "output_type": "stream",
          "text": [
            "Total soluciones generadas: 60\n"
          ]
        },
        {
          "name": "stdout",
          "output_type": "stream",
          "text": [
            "Menor coste : 37 \n",
            "Mejor solución:  [2, 2, 3, 1, 1, 2, 4, 1, 1, 2, 5, 1, 3, 2, 4, 4, 5, 1, 5, 3, 4, 3, 4, 3, 3, 5, 4, 5, 2, 5]\n",
            "Jornadas de doblaje:  {1, 2, 3, 4, 5}\n",
            "- La toma  1 se doblará el día 2\n",
            "- La toma  2 se doblará el día 2\n",
            "- La toma  3 se doblará el día 3\n",
            "- La toma  4 se doblará el día 1\n",
            "- La toma  5 se doblará el día 1\n",
            "- La toma  6 se doblará el día 2\n",
            "- La toma  7 se doblará el día 4\n",
            "- La toma  8 se doblará el día 1\n",
            "- La toma  9 se doblará el día 1\n",
            "- La toma 10 se doblará el día 2\n",
            "- La toma 11 se doblará el día 5\n",
            "- La toma 12 se doblará el día 1\n",
            "- La toma 13 se doblará el día 3\n",
            "- La toma 14 se doblará el día 2\n",
            "- La toma 15 se doblará el día 4\n",
            "- La toma 16 se doblará el día 4\n",
            "- La toma 17 se doblará el día 5\n",
            "- La toma 18 se doblará el día 1\n",
            "- La toma 19 se doblará el día 5\n",
            "- La toma 20 se doblará el día 3\n",
            "- La toma 21 se doblará el día 4\n",
            "- La toma 22 se doblará el día 3\n",
            "- La toma 23 se doblará el día 4\n",
            "- La toma 24 se doblará el día 3\n",
            "- La toma 25 se doblará el día 3\n",
            "- La toma 26 se doblará el día 5\n",
            "- La toma 27 se doblará el día 4\n",
            "- La toma 28 se doblará el día 5\n",
            "- La toma 29 se doblará el día 2\n",
            "- La toma 30 se doblará el día 5\n"
          ]
        }
      ],
      "source": [
        "min_coste_shuffle, best_sol_shuffle = algoritmo_mejorado(datos_shuffle, MIN_AL_DIA, MAX_AL_DIA)\n",
        "print(\"Menor coste :\",min_coste_shuffle,\"\\nMejor solución: \" , best_sol_shuffle)\n",
        "print(\"Jornadas de doblaje: \", set(best_sol_shuffle))\n",
        "\n",
        "for i, sol in enumerate(best_sol_shuffle):\n",
        "    print(f\"- La toma {i+1:2d} se doblará el día {sol}\")"
      ]
    },
    {
      "cell_type": "markdown",
      "metadata": {
        "id": "X31HSBZcdcZZ"
      },
      "source": [
        "Calculamos la mejor solución con el algoritmo mejorado, incluyendo aleatoriedad"
      ]
    },
    {
      "cell_type": "code",
      "execution_count": null,
      "metadata": {
        "id": "7hJ_DoRldcZZ",
        "outputId": "cbfe77fd-09ba-466d-cd98-588312d3293d"
      },
      "outputs": [
        {
          "name": "stdout",
          "output_type": "stream",
          "text": [
            "Total soluciones generadas: 25260\n",
            "Menor coste : 37 \n",
            "Mejor solución:  [2, 2, 3, 1, 1, 2, 4, 1, 1, 2, 5, 1, 3, 2, 4, 4, 5, 1, 5, 3, 4, 3, 4, 3, 3, 5, 4, 5, 2, 5]\n",
            "Jornadas de doblaje:  {1, 2, 3, 4, 5}\n",
            "- La toma  1 se doblará el día 2\n",
            "- La toma  2 se doblará el día 2\n",
            "- La toma  3 se doblará el día 3\n",
            "- La toma  4 se doblará el día 1\n",
            "- La toma  5 se doblará el día 1\n",
            "- La toma  6 se doblará el día 2\n",
            "- La toma  7 se doblará el día 4\n",
            "- La toma  8 se doblará el día 1\n",
            "- La toma  9 se doblará el día 1\n",
            "- La toma 10 se doblará el día 2\n",
            "- La toma 11 se doblará el día 5\n",
            "- La toma 12 se doblará el día 1\n",
            "- La toma 13 se doblará el día 3\n",
            "- La toma 14 se doblará el día 2\n",
            "- La toma 15 se doblará el día 4\n",
            "- La toma 16 se doblará el día 4\n",
            "- La toma 17 se doblará el día 5\n",
            "- La toma 18 se doblará el día 1\n",
            "- La toma 19 se doblará el día 5\n",
            "- La toma 20 se doblará el día 3\n",
            "- La toma 21 se doblará el día 4\n",
            "- La toma 22 se doblará el día 3\n",
            "- La toma 23 se doblará el día 4\n",
            "- La toma 24 se doblará el día 3\n",
            "- La toma 25 se doblará el día 3\n",
            "- La toma 26 se doblará el día 5\n",
            "- La toma 27 se doblará el día 4\n",
            "- La toma 28 se doblará el día 5\n",
            "- La toma 29 se doblará el día 2\n",
            "- La toma 30 se doblará el día 5\n"
          ]
        }
      ],
      "source": [
        "min_coste_random_shuffle, best_sol_random_shuffle = algoritmo_mejorado_aleatorio(datos_shuffle, MIN_AL_DIA, MAX_AL_DIA)\n",
        "print(\"Menor coste :\",min_coste_random_shuffle,\"\\nMejor solución: \" , best_sol_random_shuffle)\n",
        "print(\"Jornadas de doblaje: \", set(best_sol_random_shuffle))\n",
        "\n",
        "for i, sol in enumerate(best_sol_random_shuffle):\n",
        "    print(f\"- La toma {i+1:2d} se doblará el día {sol}\")"
      ]
    }
  ],
  "metadata": {
    "colab": {
      "provenance": [],
      "include_colab_link": true
    },
    "kernelspec": {
      "display_name": "Python 3",
      "name": "python3"
    },
    "language_info": {
      "codemirror_mode": {
        "name": "ipython",
        "version": 3
      },
      "file_extension": ".py",
      "mimetype": "text/x-python",
      "name": "python",
      "nbconvert_exporter": "python",
      "pygments_lexer": "ipython3",
      "version": "3.9.13"
    }
  },
  "nbformat": 4,
  "nbformat_minor": 0
}