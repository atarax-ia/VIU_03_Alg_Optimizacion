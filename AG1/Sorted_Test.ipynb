{
  "nbformat": 4,
  "nbformat_minor": 0,
  "metadata": {
    "colab": {
      "provenance": [],
      "authorship_tag": "ABX9TyNHhB1MTdo+64r4dzQhctkK",
      "include_colab_link": true
    },
    "kernelspec": {
      "name": "python3",
      "display_name": "Python 3"
    },
    "language_info": {
      "name": "python"
    }
  },
  "cells": [
    {
      "cell_type": "markdown",
      "metadata": {
        "id": "view-in-github",
        "colab_type": "text"
      },
      "source": [
        "<a href=\"https://colab.research.google.com/github/atarax-ia/VIU_03_Alg_Optimizacion/blob/main/AG1/Sorted_Test.ipynb\" target=\"_parent\"><img src=\"https://colab.research.google.com/assets/colab-badge.svg\" alt=\"Open In Colab\"/></a>"
      ]
    },
    {
      "cell_type": "code",
      "execution_count": 1,
      "metadata": {
        "colab": {
          "base_uri": "https://localhost:8080/"
        },
        "id": "m5dgM6OtAhp7",
        "outputId": "040724df-b09f-42e9-f495-0f672345248a"
      },
      "outputs": [
        {
          "output_type": "stream",
          "name": "stdout",
          "text": [
            "Looking in indexes: https://pypi.org/simple, https://us-python.pkg.dev/colab-wheels/public/simple/\n",
            "Collecting sorting\n",
            "  Downloading sorting-1.0.3.tar.gz (3.7 kB)\n",
            "  Preparing metadata (setup.py) ... \u001b[?25l\u001b[?25hdone\n",
            "Building wheels for collected packages: sorting\n",
            "  Building wheel for sorting (setup.py) ... \u001b[?25l\u001b[?25hdone\n",
            "  Created wheel for sorting: filename=sorting-1.0.3-py3-none-any.whl size=5859 sha256=cc1aefdbb79ef0f3a7e7b0ab5430823fb828ae962ed6c6a3ca29329f520f7c8f\n",
            "  Stored in directory: /root/.cache/pip/wheels/be/29/6f/37bba489062514c58a40b6581a4fdb006cc01eb569eb6f9f35\n",
            "Successfully built sorting\n",
            "Installing collected packages: sorting\n",
            "Successfully installed sorting-1.0.3\n"
          ]
        }
      ],
      "source": [
        "!pip install sorting"
      ]
    },
    {
      "cell_type": "code",
      "source": [
        "import sorting\n",
        "\n",
        "lista = [4, 5, 32, 2, 53, 67, 23]\n",
        "lista_ordenada = sorting.bubble(lista)\n",
        "lista_ordenada"
      ],
      "metadata": {
        "colab": {
          "base_uri": "https://localhost:8080/"
        },
        "id": "m9p69Ny9Azpb",
        "outputId": "51c05631-8b55-427c-ef2d-a6efafc3f587"
      },
      "execution_count": 2,
      "outputs": [
        {
          "output_type": "execute_result",
          "data": {
            "text/plain": [
              "[2, 4, 5, 23, 32, 53, 67]"
            ]
          },
          "metadata": {},
          "execution_count": 2
        }
      ]
    }
  ]
}