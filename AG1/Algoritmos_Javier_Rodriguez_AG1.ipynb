{
  "nbformat": 4,
  "nbformat_minor": 0,
  "metadata": {
    "colab": {
      "provenance": [],
      "authorship_tag": "ABX9TyMkJjwi6FnBFlKjV9in/E29",
      "include_colab_link": true
    },
    "kernelspec": {
      "name": "python3",
      "display_name": "Python 3"
    },
    "language_info": {
      "name": "python"
    }
  },
  "cells": [
    {
      "cell_type": "markdown",
      "metadata": {
        "id": "view-in-github",
        "colab_type": "text"
      },
      "source": [
        "<a href=\"https://colab.research.google.com/github/atarax-ia/VIU_03_Alg_Optimizacion/blob/main/AG1/Algoritmos_Javier_Rodriguez_AG1.ipynb\" target=\"_parent\"><img src=\"https://colab.research.google.com/assets/colab-badge.svg\" alt=\"Open In Colab\"/></a>"
      ]
    },
    {
      "cell_type": "markdown",
      "source": [
        "# Actividad Guiada 1\n",
        "# Javier Rodríguez Juárez\n",
        "\n",
        "[Link a Github](https://github.com/atarax-ia/VIU_03_Alg_Optimizacion/tree/main/AG1)"
      ],
      "metadata": {
        "id": "ZzkxPJWc3OK9"
      }
    },
    {
      "cell_type": "markdown",
      "source": [
        "### Torres de Hanoi"
      ],
      "metadata": {
        "id": "_JYtBKvDBhMn"
      }
    },
    {
      "cell_type": "code",
      "source": [
        "def torres_hanoi(n, origen, destino, pivote):\n",
        "  if n == 1:\n",
        "    print(f\"Mover bloque {n} desde {origen} a {destino}\")\n",
        "    return\n",
        "  # El orden de los postes: origen, destino, pivote; ´\n",
        "  # determina las reglas del juego (colocar piezas menores sobre piezas mayores)\n",
        "  torres_hanoi(n - 1, origen, pivote, destino)\n",
        "  print(f\"Mover bloque {n} desde {origen} a {destino}\")\n",
        "  torres_hanoi(n - 1, pivote, destino, origen)"
      ],
      "metadata": {
        "id": "5M-43IG53aH2"
      },
      "execution_count": 6,
      "outputs": []
    },
    {
      "cell_type": "code",
      "source": [
        "torres_hanoi(4, \"P1\", \"P3\", \"P2\")"
      ],
      "metadata": {
        "colab": {
          "base_uri": "https://localhost:8080/"
        },
        "id": "_SA94GiS7clg",
        "outputId": "afeaac76-7a1d-4c1a-d589-8a1efe772227"
      },
      "execution_count": 7,
      "outputs": [
        {
          "output_type": "stream",
          "name": "stdout",
          "text": [
            "Mover bloque 1 desde P1 a P2\n",
            "Mover bloque 2 desde P1 a P3\n",
            "Mover bloque 1 desde P2 a P3\n",
            "Mover bloque 3 desde P1 a P2\n",
            "Mover bloque 1 desde P3 a P1\n",
            "Mover bloque 2 desde P3 a P2\n",
            "Mover bloque 1 desde P1 a P2\n",
            "Mover bloque 4 desde P1 a P3\n",
            "Mover bloque 1 desde P2 a P3\n",
            "Mover bloque 2 desde P2 a P1\n",
            "Mover bloque 1 desde P3 a P1\n",
            "Mover bloque 3 desde P2 a P3\n",
            "Mover bloque 1 desde P1 a P2\n",
            "Mover bloque 2 desde P1 a P3\n",
            "Mover bloque 1 desde P2 a P3\n"
          ]
        }
      ]
    },
    {
      "cell_type": "markdown",
      "source": [
        "### Cambio de monedas"
      ],
      "metadata": {
        "id": "dRUX4MMuBtGM"
      }
    },
    {
      "cell_type": "code",
      "source": [
        "def cambio_monedas(cantidad, sistema):\n",
        "  print(f\"El sistema es {sistema}\")\n",
        "  solucion = [0 for i in range(len(sistema))]   # Tantos ceros como elementos tiene el sistema\n",
        "  valor_acumulado = 0\n",
        "\n",
        "  for i in range(len(sistema)):\n",
        "    monedas = int((cantidad - valor_acumulado) / sistema[i])\n",
        "    solucion[i] = monedas\n",
        "    valor_acumulado += monedas * sistema[i]\n",
        "    if valor_acumulado == cantidad:\n",
        "      break\n",
        "  return solucion\n"
      ],
      "metadata": {
        "id": "w3E3i5a8BfQt"
      },
      "execution_count": 8,
      "outputs": []
    },
    {
      "cell_type": "code",
      "source": [
        "monedas = [25, 10, 5, 1]\n",
        "\n",
        "cambio_monedas(117, monedas)"
      ],
      "metadata": {
        "colab": {
          "base_uri": "https://localhost:8080/"
        },
        "id": "pKKIo57sEu70",
        "outputId": "aa90fbdf-f0cc-4b54-945c-bacb3a283724"
      },
      "execution_count": 9,
      "outputs": [
        {
          "output_type": "stream",
          "name": "stdout",
          "text": [
            "El sistema es [25, 10, 5, 1]\n"
          ]
        },
        {
          "output_type": "execute_result",
          "data": {
            "text/plain": [
              "[4, 1, 1, 2]"
            ]
          },
          "metadata": {},
          "execution_count": 9
        }
      ]
    },
    {
      "cell_type": "code",
      "source": [
        "def cambio_monedas(cantidad, sistema):\n",
        "  print(f\"El sistema es {sistema}\")\n",
        "  cambio = []\n",
        "  for m in sistema:\n",
        "    cambio.append(cantidad // m)\n",
        "    cantidad = cantidad % m\n",
        "  return cambio"
      ],
      "metadata": {
        "id": "hz8Rb7dUEoGq"
      },
      "execution_count": 10,
      "outputs": []
    },
    {
      "cell_type": "code",
      "source": [
        "monedas = [25, 10, 5, 1]\n",
        "\n",
        "cambio_monedas(117, monedas)"
      ],
      "metadata": {
        "colab": {
          "base_uri": "https://localhost:8080/"
        },
        "id": "SkbCx6jkENvN",
        "outputId": "265a4788-0b50-46c6-f730-210f4ed21436"
      },
      "execution_count": 11,
      "outputs": [
        {
          "output_type": "stream",
          "name": "stdout",
          "text": [
            "El sistema es [25, 10, 5, 1]\n"
          ]
        },
        {
          "output_type": "execute_result",
          "data": {
            "text/plain": [
              "[4, 1, 1, 2]"
            ]
          },
          "metadata": {},
          "execution_count": 11
        }
      ]
    },
    {
      "cell_type": "markdown",
      "source": [
        "### Distancia entre dos puntos"
      ],
      "metadata": {
        "id": "AIggOshKJlHZ"
      }
    },
    {
      "cell_type": "markdown",
      "source": [
        "Por **fuerza bruta**, calculando la distancia entre todos los puntos.\n",
        "\n",
        "La distancia se inicializa con infinito.\n",
        "\n",
        "Comprobamos la distancia entre todos los puntos, tomando el mínimo de todos ellos"
      ],
      "metadata": {
        "id": "JOqbvZ6cKEQN"
      }
    },
    {
      "cell_type": "code",
      "source": [
        "def distancia_1d_bf(lista_ptos):\n",
        "  resultado = float('inf')\n",
        "  for i in range(len(lista_ptos)):\n",
        "    for j in range(i + 1, len(lista_ptos)):\n",
        "      dist = abs(lista_ptos[i] - lista_ptos[j])\n",
        "      resultado = dist if dist < resultado else resultado\n",
        "  return resultado"
      ],
      "metadata": {
        "id": "9IG50J6kJpoD"
      },
      "execution_count": 12,
      "outputs": []
    },
    {
      "cell_type": "code",
      "source": [
        "import numpy as np\n",
        "np.random.seed(42)\n",
        "lista_1d = list(set(np.random.randint(low=0, high=10000, size=10)))\n",
        "\n",
        "lista_1d.sort()\n",
        "\n",
        "print(f\"Listado de puntos = {lista_1d}\")\n",
        "print(f\"Distancia mínima = {distancia_1d_bf(lista_1d)}\")"
      ],
      "metadata": {
        "colab": {
          "base_uri": "https://localhost:8080/"
        },
        "id": "01Bb_DxJL6F3",
        "outputId": "ac12f6d0-9939-41ac-9f7a-2995e4459605"
      },
      "execution_count": 13,
      "outputs": [
        {
          "output_type": "stream",
          "name": "stdout",
          "text": [
            "Listado de puntos = [8322, 5734, 5191, 7270, 4426, 5578, 5390, 466, 6265, 860]\n",
            "Distancia mínima = 156\n"
          ]
        }
      ]
    },
    {
      "cell_type": "markdown",
      "source": [
        "Por cada iteración se realizan 3 operaciones:\n",
        "- Cálculo de la distancia entre dos puntos\n",
        "- Comparación entre la distancia calculada y la mínima hasta el momento\n",
        "- En el peor de los casos, asignación a la variable de la distancia mínima calculada\n",
        "\n",
        "La complejidad sería igual a:\n",
        "\n",
        "$\\sum_{i = 1}^{n} \\sum_{j = i + 1}^{n} 3 = \\sum_{i = 1}^{n} 3 \\times (n - j) = \\sum_{i = 1}^{n} 3 \\times (n - i - 1) = \\frac{3}{2} n (n - 3) \\equiv \\mathcal{O} (n^{2})$"
      ],
      "metadata": {
        "id": "JbaMDm1Z-2As"
      }
    },
    {
      "cell_type": "markdown",
      "source": [
        "Por **recursividad**:"
      ],
      "metadata": {
        "id": "3mqh-MylKvDT"
      }
    },
    {
      "cell_type": "code",
      "source": [
        "def distancia_1d_rec(lista_ptos):\n",
        "  # Casos base:\n",
        "  if len(lista_ptos) == 1:\n",
        "    return float('inf')\n",
        "\n",
        "  elif len(lista_ptos) == 2:\n",
        "    return abs(lista_ptos[1] - lista_ptos[0])\n",
        "\n",
        "  else:\n",
        "    # Dividimos en dos mitades\n",
        "    mid = len(lista_ptos) // 2\n",
        "    mitad_izqda = lista_ptos[:mid]\n",
        "    mitad_dcha = lista_ptos[mid:]\n",
        "\n",
        "    # LLamadas recursivas\n",
        "    dist_izqda = distancia_1d_rec(mitad_izqda)\n",
        "    dist_dcha = distancia_1d_rec(mitad_dcha)\n",
        "    # Distancia entre conjuntos contiguos\n",
        "    # con los puntos más próximos a cada lado\n",
        "    dist_frontera = abs(mitad_izqda[-1] - mitad_dcha[0])\n",
        "    return min(dist_izqda, dist_dcha, dist_frontera)"
      ],
      "metadata": {
        "id": "mI0C4GyUKyMs"
      },
      "execution_count": 14,
      "outputs": []
    },
    {
      "cell_type": "code",
      "source": [
        "import numpy as np\n",
        "np.random.seed(42)\n",
        "lista_1d = list(set(np.random.randint(low=0, high=10000, size=10)))\n",
        "\n",
        "lista_1d.sort()\n",
        "\n",
        "print(f\"Listado de puntos = {lista_1d}\")\n",
        "print(f\"Distancia mínima = {distancia_1d_rec(lista_1d)}\")"
      ],
      "metadata": {
        "colab": {
          "base_uri": "https://localhost:8080/"
        },
        "id": "b9ZGoTt077AS",
        "outputId": "30aa42ec-deb1-47e1-d238-edf6624abd14"
      },
      "execution_count": 15,
      "outputs": [
        {
          "output_type": "stream",
          "name": "stdout",
          "text": [
            "Listado de puntos = [8322, 5734, 5191, 7270, 4426, 5578, 5390, 466, 6265, 860]\n",
            "Distancia mínima = 188\n"
          ]
        }
      ]
    },
    {
      "cell_type": "markdown",
      "source": [
        "Para el mejor de los casos, en los que haya únicamente uno o dos puntos:\n",
        "\n",
        "$T^{m}(n) = 1 \\equiv \\mathcal{O} (1)$\n",
        "\n",
        "\n",
        "Para el peor de los casos, por cada iteración se realizan 5 operaciones:\n",
        "- Cálculo del tamaño de cada partición\n",
        "- División de la lista en la parte izquierda\n",
        "- División de la lista en la parte izquierda\n",
        "\n",
        "Después se realiza la llamada recursiva a la función con cada mitad de la lista\n",
        "Por último, habiendo llegado al caso base:\n",
        "- Se realiza el cáclulo de la ditancia entre los puntos a ambos lados de cada partición\n",
        "- Cálculo de la mínima distancia\n",
        "\n",
        "La complejidad, en cada iteración, sería igual a:\n",
        "\n",
        "$T^{p}(n) = 5 + 2 \\times T(\\frac{n}{2}) = 5 + 2 \\times (5 + 2 \\times T(\\frac{n}{4})) = 5 + 2 \\times (5 + 2 \\times (5 + 2 \\times T(\\frac{n}{8}))) = ...$\n",
        "\n",
        "$T^{p}(n) = 5 + 10 + 15 + ... +5 \\times 2^{i - 1} + 2^{i} \\times T(\\frac{n}{2^{i}}) = 5 \\times (2^{i} - 1) + 2^{i} \\times T(\\frac{n}{2^{i}})$\n",
        "$T^{p}(n) = 5 \\times (2^{log_{2}n} - 1) + 2^{log_{2}n} \\times T(1) = 5 \\times n - 5 + n = 6n - 5 \\equiv \\mathcal{O} (n)$\n"
      ],
      "metadata": {
        "id": "pLTeJ12gD8ur"
      }
    }
  ]
}