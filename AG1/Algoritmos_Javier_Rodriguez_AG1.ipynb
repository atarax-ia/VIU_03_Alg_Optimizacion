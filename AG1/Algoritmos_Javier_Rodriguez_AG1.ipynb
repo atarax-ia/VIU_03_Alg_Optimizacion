{
  "nbformat": 4,
  "nbformat_minor": 0,
  "metadata": {
    "colab": {
      "provenance": [],
      "authorship_tag": "ABX9TyNb+YuPIm9DI4Lrb6Q77kth",
      "include_colab_link": true
    },
    "kernelspec": {
      "name": "python3",
      "display_name": "Python 3"
    },
    "language_info": {
      "name": "python"
    }
  },
  "cells": [
    {
      "cell_type": "markdown",
      "metadata": {
        "id": "view-in-github",
        "colab_type": "text"
      },
      "source": [
        "<a href=\"https://colab.research.google.com/github/atarax-ia/VIU_03_Alg_Optimizacion/blob/main/AG1/Algoritmos_Javier_Rodriguez_AG1.ipynb\" target=\"_parent\"><img src=\"https://colab.research.google.com/assets/colab-badge.svg\" alt=\"Open In Colab\"/></a>"
      ]
    },
    {
      "cell_type": "markdown",
      "source": [
        "# Actividad Guiada 1\n",
        "# Javier Rodríguez Juárez\n",
        "\n",
        "[Link a Github](https://github.com/atarax-ia/VIU_03_Alg_Optimizacion/tree/main/AG1)"
      ],
      "metadata": {
        "id": "ZzkxPJWc3OK9"
      }
    },
    {
      "cell_type": "markdown",
      "source": [
        "### Torres de Hanoi"
      ],
      "metadata": {
        "id": "_JYtBKvDBhMn"
      }
    },
    {
      "cell_type": "code",
      "source": [
        "def torres_hanoi(n, origen, destino, pivote):\n",
        "  if n == 1:\n",
        "    print(f\"Mover bloque {n} desde {origen} a {destino}\")\n",
        "    return\n",
        "  # El orden de los postes: origen, destino, pivote; ´\n",
        "  # determina las reglas del juego (colocar piezas menores sobre piezas mayores)\n",
        "  torres_hanoi(n - 1, origen, pivote, destino)\n",
        "  print(f\"Mover bloque {n} desde {origen} a {destino}\")\n",
        "  torres_hanoi(n - 1, pivote, destino, origen)"
      ],
      "metadata": {
        "id": "5M-43IG53aH2"
      },
      "execution_count": 23,
      "outputs": []
    },
    {
      "cell_type": "code",
      "source": [
        "torres_hanoi(4, \"P1\", \"P3\", \"P2\")"
      ],
      "metadata": {
        "colab": {
          "base_uri": "https://localhost:8080/"
        },
        "id": "_SA94GiS7clg",
        "outputId": "83dc7ec9-2e91-4c2f-afbf-963b627fd40f"
      },
      "execution_count": 22,
      "outputs": [
        {
          "output_type": "stream",
          "name": "stdout",
          "text": [
            "Mover bloque 1 desde P1 a P2\n",
            "Mover bloque 2 desde P1 a P3\n",
            "Mover bloque 1 desde P2 a P3\n",
            "Mover bloque 3 desde P1 a P2\n",
            "Mover bloque 1 desde P3 a P1\n",
            "Mover bloque 2 desde P3 a P2\n",
            "Mover bloque 1 desde P1 a P2\n",
            "Mover bloque 4 desde P1 a P3\n",
            "Mover bloque 1 desde P2 a P3\n",
            "Mover bloque 2 desde P2 a P1\n",
            "Mover bloque 1 desde P3 a P1\n",
            "Mover bloque 3 desde P2 a P3\n",
            "Mover bloque 1 desde P1 a P2\n",
            "Mover bloque 2 desde P1 a P3\n",
            "Mover bloque 1 desde P2 a P3\n"
          ]
        }
      ]
    },
    {
      "cell_type": "markdown",
      "source": [
        "### Cambio de monedas"
      ],
      "metadata": {
        "id": "dRUX4MMuBtGM"
      }
    },
    {
      "cell_type": "code",
      "source": [
        "def cambio_monedas(cantidad, sistema):\n",
        "  print(f\"El sistema es {sistema}\")\n",
        "  solucion = [0 for i in range(len(sistema))]   # Tantos ceros como elementos tiene el sistema\n",
        "  valor_acumulado = 0\n",
        "\n",
        "  for i in range(len(sistema)):\n",
        "    monedas = int((cantidad - valor_acumulado) / sistema[i])\n",
        "    solucion[i] = monedas\n",
        "    valor_acumulado += monedas * sistema[i]\n",
        "    if valor_acumulado == cantidad:\n",
        "      break\n",
        "  return solucion\n"
      ],
      "metadata": {
        "id": "w3E3i5a8BfQt"
      },
      "execution_count": 31,
      "outputs": []
    },
    {
      "cell_type": "code",
      "source": [
        "monedas = [25, 10, 5, 1]\n",
        "\n",
        "cambio_monedas(117, monedas)"
      ],
      "metadata": {
        "colab": {
          "base_uri": "https://localhost:8080/"
        },
        "id": "pKKIo57sEu70",
        "outputId": "c209f1a4-290e-425d-e63e-f86366dbd391"
      },
      "execution_count": 42,
      "outputs": [
        {
          "output_type": "stream",
          "name": "stdout",
          "text": [
            "El sistema es [25, 10, 5, 1]\n"
          ]
        },
        {
          "output_type": "execute_result",
          "data": {
            "text/plain": [
              "[4, 1, 1, 2]"
            ]
          },
          "metadata": {},
          "execution_count": 42
        }
      ]
    },
    {
      "cell_type": "code",
      "source": [
        "def cambio_monedas(cantidad, sistema):\n",
        "  print(f\"El sistema es {sistema}\")\n",
        "  cambio = []\n",
        "  for m in sistema:\n",
        "    cambio.append(cantidad // m)\n",
        "    cantidad = cantidad % m\n",
        "  return cambio"
      ],
      "metadata": {
        "id": "hz8Rb7dUEoGq"
      },
      "execution_count": 33,
      "outputs": []
    },
    {
      "cell_type": "code",
      "source": [
        "monedas = [25, 10, 5, 1]\n",
        "\n",
        "cambio_monedas(117, monedas)"
      ],
      "metadata": {
        "colab": {
          "base_uri": "https://localhost:8080/"
        },
        "id": "SkbCx6jkENvN",
        "outputId": "d4fef992-1c4a-441c-fae3-517d59c1cd47"
      },
      "execution_count": 41,
      "outputs": [
        {
          "output_type": "stream",
          "name": "stdout",
          "text": [
            "El sistema es [25, 10, 5, 1]\n"
          ]
        },
        {
          "output_type": "execute_result",
          "data": {
            "text/plain": [
              "[4, 1, 1, 2]"
            ]
          },
          "metadata": {},
          "execution_count": 41
        }
      ]
    },
    {
      "cell_type": "markdown",
      "source": [
        "### Distancia entre dos puntos"
      ],
      "metadata": {
        "id": "AIggOshKJlHZ"
      }
    },
    {
      "cell_type": "code",
      "source": [
        "def distancia_1d(lista_ptos):\n",
        "  pass"
      ],
      "metadata": {
        "id": "9IG50J6kJpoD"
      },
      "execution_count": null,
      "outputs": []
    }
  ]
}