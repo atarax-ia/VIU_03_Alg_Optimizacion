{
  "nbformat": 4,
  "nbformat_minor": 0,
  "metadata": {
    "colab": {
      "provenance": [],
      "authorship_tag": "ABX9TyOr9Q+Tr04oYf+v+WtBzhCT",
      "include_colab_link": true
    },
    "kernelspec": {
      "name": "python3",
      "display_name": "Python 3"
    },
    "language_info": {
      "name": "python"
    }
  },
  "cells": [
    {
      "cell_type": "markdown",
      "metadata": {
        "id": "view-in-github",
        "colab_type": "text"
      },
      "source": [
        "<a href=\"https://colab.research.google.com/github/atarax-ia/VIU_03_Alg_Optimizacion/blob/main/AG1/Algoritmos_Javier_Rodriguez_AG1.ipynb\" target=\"_parent\"><img src=\"https://colab.research.google.com/assets/colab-badge.svg\" alt=\"Open In Colab\"/></a>"
      ]
    },
    {
      "cell_type": "markdown",
      "source": [
        "# Actividad Guiada 1\n",
        "# Javier Rodríguez Juárez\n",
        "\n",
        "[Link a Github](https://github.com/atarax-ia/VIU_03_Alg_Optimizacion/tree/main/AG1)"
      ],
      "metadata": {
        "id": "ZzkxPJWc3OK9"
      }
    },
    {
      "cell_type": "markdown",
      "source": [
        "### Torres de Hanoi"
      ],
      "metadata": {
        "id": "_JYtBKvDBhMn"
      }
    },
    {
      "cell_type": "code",
      "source": [
        "def torres_hanoi(n, origen, destino, pivote):\n",
        "  if n == 1:\n",
        "    print(f\"Mover bloque {n} desde {origen} a {destino}\")\n",
        "    return\n",
        "  # El orden de los postes: origen, destino, pivote; ´\n",
        "  # determina las reglas del juego (colocar piezas menores sobre piezas mayores)\n",
        "  torres_hanoi(n - 1, origen, pivote, destino)\n",
        "  print(f\"Mover bloque {n} desde {origen} a {destino}\")\n",
        "  torres_hanoi(n - 1, pivote, destino, origen)"
      ],
      "metadata": {
        "id": "5M-43IG53aH2"
      },
      "execution_count": 1,
      "outputs": []
    },
    {
      "cell_type": "code",
      "source": [
        "torres_hanoi(4, \"P1\", \"P3\", \"P2\")"
      ],
      "metadata": {
        "colab": {
          "base_uri": "https://localhost:8080/"
        },
        "id": "_SA94GiS7clg",
        "outputId": "4f169f91-28d7-4413-c881-076653062119"
      },
      "execution_count": 2,
      "outputs": [
        {
          "output_type": "stream",
          "name": "stdout",
          "text": [
            "Mover bloque 1 desde P1 a P2\n",
            "Mover bloque 2 desde P1 a P3\n",
            "Mover bloque 1 desde P2 a P3\n",
            "Mover bloque 3 desde P1 a P2\n",
            "Mover bloque 1 desde P3 a P1\n",
            "Mover bloque 2 desde P3 a P2\n",
            "Mover bloque 1 desde P1 a P2\n",
            "Mover bloque 4 desde P1 a P3\n",
            "Mover bloque 1 desde P2 a P3\n",
            "Mover bloque 2 desde P2 a P1\n",
            "Mover bloque 1 desde P3 a P1\n",
            "Mover bloque 3 desde P2 a P3\n",
            "Mover bloque 1 desde P1 a P2\n",
            "Mover bloque 2 desde P1 a P3\n",
            "Mover bloque 1 desde P2 a P3\n"
          ]
        }
      ]
    },
    {
      "cell_type": "markdown",
      "source": [
        "### Cambio de monedas"
      ],
      "metadata": {
        "id": "dRUX4MMuBtGM"
      }
    },
    {
      "cell_type": "code",
      "source": [
        "def cambio_monedas(cantidad, sistema):\n",
        "  print(f\"El sistema es {sistema}\")\n",
        "  solucion = [0 for i in range(len(sistema))]   # Tantos ceros como elementos tiene el sistema\n",
        "  valor_acumulado = 0\n",
        "\n",
        "  for i in range(len(sistema)):\n",
        "    monedas = int((cantidad - valor_acumulado) / sistema[i])\n",
        "    solucion[i] = monedas\n",
        "    valor_acumulado += monedas * sistema[i]\n",
        "    if valor_acumulado == cantidad:\n",
        "      break\n",
        "  return solucion\n"
      ],
      "metadata": {
        "id": "w3E3i5a8BfQt"
      },
      "execution_count": 3,
      "outputs": []
    },
    {
      "cell_type": "code",
      "source": [
        "monedas = [25, 10, 5, 1]\n",
        "\n",
        "cambio_monedas(117, monedas)"
      ],
      "metadata": {
        "colab": {
          "base_uri": "https://localhost:8080/"
        },
        "id": "pKKIo57sEu70",
        "outputId": "aa194e55-f27a-4f8c-cc12-f38c1095cd83"
      },
      "execution_count": 4,
      "outputs": [
        {
          "output_type": "stream",
          "name": "stdout",
          "text": [
            "El sistema es [25, 10, 5, 1]\n"
          ]
        },
        {
          "output_type": "execute_result",
          "data": {
            "text/plain": [
              "[4, 1, 1, 2]"
            ]
          },
          "metadata": {},
          "execution_count": 4
        }
      ]
    },
    {
      "cell_type": "code",
      "source": [
        "def cambio_monedas(cantidad, sistema):\n",
        "  print(f\"El sistema es {sistema}\")\n",
        "  cambio = []\n",
        "  for m in sistema:\n",
        "    cambio.append(cantidad // m)\n",
        "    cantidad = cantidad % m\n",
        "  return cambio"
      ],
      "metadata": {
        "id": "hz8Rb7dUEoGq"
      },
      "execution_count": 5,
      "outputs": []
    },
    {
      "cell_type": "code",
      "source": [
        "monedas = [25, 10, 5, 1]\n",
        "\n",
        "cambio_monedas(117, monedas)"
      ],
      "metadata": {
        "colab": {
          "base_uri": "https://localhost:8080/"
        },
        "id": "SkbCx6jkENvN",
        "outputId": "e1a32600-5b3f-43be-d19e-ac913dee4e74"
      },
      "execution_count": 6,
      "outputs": [
        {
          "output_type": "stream",
          "name": "stdout",
          "text": [
            "El sistema es [25, 10, 5, 1]\n"
          ]
        },
        {
          "output_type": "execute_result",
          "data": {
            "text/plain": [
              "[4, 1, 1, 2]"
            ]
          },
          "metadata": {},
          "execution_count": 6
        }
      ]
    },
    {
      "cell_type": "markdown",
      "source": [
        "### Distancia entre dos puntos"
      ],
      "metadata": {
        "id": "AIggOshKJlHZ"
      }
    },
    {
      "cell_type": "markdown",
      "source": [
        "Por **fuerza bruta**, calculando la distancia entre todos los puntos.\n",
        "\n",
        "La distancia se inicializa con infinito.\n",
        "\n",
        "Comprobamos la distancia entre todos los puntos, tomando el mínimo de todos ellos"
      ],
      "metadata": {
        "id": "JOqbvZ6cKEQN"
      }
    },
    {
      "cell_type": "code",
      "source": [
        "def distancia_1d_bf(lista_ptos):\n",
        "  resultado = float('inf')\n",
        "  for i in range(len(lista_ptos)):\n",
        "    for j in range(i + 1, len(lista_ptos)):\n",
        "      dist = abs(lista_ptos[i] - lista_ptos[j])\n",
        "      resultado = dist if dist < resultado else resultado\n",
        "  return resultado"
      ],
      "metadata": {
        "id": "9IG50J6kJpoD"
      },
      "execution_count": 7,
      "outputs": []
    },
    {
      "cell_type": "code",
      "source": [
        "import numpy as np\n",
        "np.random.seed(42)\n",
        "lista_1d = list(set(np.random.randint(low=0, high=2*10**6, size=250)))\n",
        "\n",
        "lista_1d.sort()\n",
        "\n",
        "print(f\"Listado de puntos = {lista_1d}\")"
      ],
      "metadata": {
        "colab": {
          "base_uri": "https://localhost:8080/"
        },
        "id": "01Bb_DxJL6F3",
        "outputId": "38949a51-9545-4727-b883-4e0ca5b0e45f"
      },
      "execution_count": 8,
      "outputs": [
        {
          "output_type": "stream",
          "name": "stdout",
          "text": [
            "Listado de puntos = [12666, 13986, 21959, 23247, 24538, 25939, 41090, 43585, 48984, 64044, 65725, 68148, 75766, 84654, 103355, 106530, 109556, 110268, 121958, 122409, 127948, 131932, 133767, 134633, 136330, 137337, 137848, 139182, 156730, 175203, 184064, 184779, 196769, 200235, 201664, 202283, 208261, 214020, 218969, 253618, 256508, 259178, 264712, 271836, 273538, 278167, 288998, 302918, 319030, 327069, 329365, 331236, 349457, 351279, 379989, 387261, 402690, 408923, 415515, 432315, 442296, 451269, 460337, 473254, 480754, 486232, 487879, 489492, 489570, 491234, 499046, 516588, 527035, 528178, 533556, 542335, 555839, 561353, 564685, 565894, 568550, 572843, 579879, 586146, 591723, 604365, 607086, 615270, 617075, 623094, 628776, 648143, 648531, 648663, 654811, 665987, 671155, 678843, 685440, 698361, 732180, 735716, 742139, 767595, 769598, 772838, 773290, 782038, 787201, 791743, 803591, 805889, 810208, 838688, 850937, 861882, 874371, 894498, 896942, 897421, 906606, 912756, 913910, 917040, 917710, 926075, 950110, 953277, 960061, 973548, 978732, 984346, 989436, 989913, 996107, 999238, 999890, 1007293, 1039577, 1046797, 1072876, 1079111, 1098591, 1103462, 1113396, 1136074, 1154454, 1159263, 1167752, 1168727, 1170672, 1177888, 1178557, 1198079, 1201482, 1206914, 1213475, 1220405, 1233916, 1239911, 1246862, 1247617, 1253617, 1262752, 1266702, 1269460, 1271741, 1284372, 1285160, 1288205, 1288507, 1300571, 1305416, 1307371, 1311736, 1319512, 1321685, 1322905, 1333382, 1336825, 1349380, 1350224, 1363715, 1370455, 1373343, 1377523, 1389673, 1396025, 1397527, 1402107, 1414414, 1419945, 1424289, 1425472, 1433257, 1459933, 1463768, 1465689, 1470485, 1487550, 1500942, 1503165, 1504384, 1505127, 1508349, 1515857, 1521101, 1548762, 1570006, 1575557, 1584398, 1596283, 1610908, 1627880, 1650237, 1672163, 1679923, 1692743, 1694490, 1696548, 1701240, 1709466, 1737095, 1752126, 1756187, 1766891, 1767640, 1773415, 1775846, 1780488, 1798792, 1813045, 1823260, 1825573, 1825665, 1838756, 1843400, 1870230, 1870928, 1886222, 1919486, 1928434, 1930267, 1947735, 1948260, 1951224, 1954109, 1954354, 1959366, 1972990]\n"
          ]
        }
      ]
    },
    {
      "cell_type": "code",
      "source": [
        "%%timeit\n",
        "distancia_1d_bf(lista_1d)"
      ],
      "metadata": {
        "id": "6oUdxXpgMYn7",
        "outputId": "42ed49fe-82f7-4908-904a-7e2c135b8af1",
        "colab": {
          "base_uri": "https://localhost:8080/"
        }
      },
      "execution_count": 9,
      "outputs": [
        {
          "output_type": "stream",
          "name": "stdout",
          "text": [
            "11.8 ms ± 6.27 ms per loop (mean ± std. dev. of 7 runs, 100 loops each)\n"
          ]
        }
      ]
    },
    {
      "cell_type": "code",
      "source": [
        "print(f\"Distancia mínima = {distancia_1d_bf(lista_1d)}\")"
      ],
      "metadata": {
        "id": "JJ8tGSyWMyJA",
        "outputId": "51daca01-1cac-4fa2-eaea-c17203bc19d4",
        "colab": {
          "base_uri": "https://localhost:8080/"
        }
      },
      "execution_count": 10,
      "outputs": [
        {
          "output_type": "stream",
          "name": "stdout",
          "text": [
            "Distancia mínima = 78\n"
          ]
        }
      ]
    },
    {
      "cell_type": "markdown",
      "source": [
        "Por cada iteración se realizan 3 operaciones:\n",
        "- Cálculo de la distancia entre dos puntos\n",
        "- Comparación entre la distancia calculada y la mínima hasta el momento\n",
        "- En el peor de los casos, asignación a la variable de la distancia mínima calculada\n",
        "\n",
        "La complejidad sería igual a:\n",
        "\n",
        "$\\sum_{i = 1}^{n} \\sum_{j = i + 1}^{n} 3 = \\sum_{i = 1}^{n} 3 \\times (n - j) = \\sum_{i = 1}^{n} 3 \\times (n - i - 1) = \\frac{3}{2} n (n - 3) \\equiv \\mathcal{O} (n^{2})$"
      ],
      "metadata": {
        "id": "JbaMDm1Z-2As"
      }
    },
    {
      "cell_type": "markdown",
      "source": [
        "Por **recursividad**:"
      ],
      "metadata": {
        "id": "3mqh-MylKvDT"
      }
    },
    {
      "cell_type": "code",
      "source": [
        "def distancia_1d_rec(lista_ptos):\n",
        "  # Casos base:\n",
        "  if len(lista_ptos) == 1:\n",
        "    return float('inf')\n",
        "\n",
        "  elif len(lista_ptos) == 2:\n",
        "    return abs(lista_ptos[1] - lista_ptos[0])\n",
        "\n",
        "  else:\n",
        "    # Dividimos en dos mitades\n",
        "    mid = len(lista_ptos) // 2\n",
        "    mitad_izqda = lista_ptos[:mid]\n",
        "    mitad_dcha = lista_ptos[mid:]\n",
        "\n",
        "    # LLamadas recursivas\n",
        "    dist_izqda = distancia_1d_rec(mitad_izqda)\n",
        "    dist_dcha = distancia_1d_rec(mitad_dcha)\n",
        "    # Distancia entre conjuntos contiguos\n",
        "    # con los puntos más próximos a cada lado\n",
        "    dist_frontera = abs(mitad_izqda[-1] - mitad_dcha[0])\n",
        "    return min(dist_izqda, dist_dcha, dist_frontera)"
      ],
      "metadata": {
        "id": "mI0C4GyUKyMs"
      },
      "execution_count": 11,
      "outputs": []
    },
    {
      "cell_type": "code",
      "source": [
        "import numpy as np\n",
        "np.random.seed(42)\n",
        "lista_1d = list(set(np.random.randint(low=0, high=2*10**6, size=250)))\n",
        "\n",
        "lista_1d.sort()\n",
        "\n",
        "print(f\"Listado de puntos = {lista_1d}\")"
      ],
      "metadata": {
        "colab": {
          "base_uri": "https://localhost:8080/"
        },
        "id": "b9ZGoTt077AS",
        "outputId": "e6bd5ea3-1585-4b33-b97b-436878c20fbc"
      },
      "execution_count": 12,
      "outputs": [
        {
          "output_type": "stream",
          "name": "stdout",
          "text": [
            "Listado de puntos = [12666, 13986, 21959, 23247, 24538, 25939, 41090, 43585, 48984, 64044, 65725, 68148, 75766, 84654, 103355, 106530, 109556, 110268, 121958, 122409, 127948, 131932, 133767, 134633, 136330, 137337, 137848, 139182, 156730, 175203, 184064, 184779, 196769, 200235, 201664, 202283, 208261, 214020, 218969, 253618, 256508, 259178, 264712, 271836, 273538, 278167, 288998, 302918, 319030, 327069, 329365, 331236, 349457, 351279, 379989, 387261, 402690, 408923, 415515, 432315, 442296, 451269, 460337, 473254, 480754, 486232, 487879, 489492, 489570, 491234, 499046, 516588, 527035, 528178, 533556, 542335, 555839, 561353, 564685, 565894, 568550, 572843, 579879, 586146, 591723, 604365, 607086, 615270, 617075, 623094, 628776, 648143, 648531, 648663, 654811, 665987, 671155, 678843, 685440, 698361, 732180, 735716, 742139, 767595, 769598, 772838, 773290, 782038, 787201, 791743, 803591, 805889, 810208, 838688, 850937, 861882, 874371, 894498, 896942, 897421, 906606, 912756, 913910, 917040, 917710, 926075, 950110, 953277, 960061, 973548, 978732, 984346, 989436, 989913, 996107, 999238, 999890, 1007293, 1039577, 1046797, 1072876, 1079111, 1098591, 1103462, 1113396, 1136074, 1154454, 1159263, 1167752, 1168727, 1170672, 1177888, 1178557, 1198079, 1201482, 1206914, 1213475, 1220405, 1233916, 1239911, 1246862, 1247617, 1253617, 1262752, 1266702, 1269460, 1271741, 1284372, 1285160, 1288205, 1288507, 1300571, 1305416, 1307371, 1311736, 1319512, 1321685, 1322905, 1333382, 1336825, 1349380, 1350224, 1363715, 1370455, 1373343, 1377523, 1389673, 1396025, 1397527, 1402107, 1414414, 1419945, 1424289, 1425472, 1433257, 1459933, 1463768, 1465689, 1470485, 1487550, 1500942, 1503165, 1504384, 1505127, 1508349, 1515857, 1521101, 1548762, 1570006, 1575557, 1584398, 1596283, 1610908, 1627880, 1650237, 1672163, 1679923, 1692743, 1694490, 1696548, 1701240, 1709466, 1737095, 1752126, 1756187, 1766891, 1767640, 1773415, 1775846, 1780488, 1798792, 1813045, 1823260, 1825573, 1825665, 1838756, 1843400, 1870230, 1870928, 1886222, 1919486, 1928434, 1930267, 1947735, 1948260, 1951224, 1954109, 1954354, 1959366, 1972990]\n"
          ]
        }
      ]
    },
    {
      "cell_type": "code",
      "source": [
        "%%timeit\n",
        "distancia_1d_rec(lista_1d)"
      ],
      "metadata": {
        "id": "dRlx31GuMcKi",
        "outputId": "9a355d3a-9ec7-4c48-aa2a-c59ef7e9c2a4",
        "colab": {
          "base_uri": "https://localhost:8080/"
        }
      },
      "execution_count": 13,
      "outputs": [
        {
          "output_type": "stream",
          "name": "stdout",
          "text": [
            "177 µs ± 36.4 µs per loop (mean ± std. dev. of 7 runs, 10000 loops each)\n"
          ]
        }
      ]
    },
    {
      "cell_type": "code",
      "source": [
        "print(f\"Distancia mínima = {distancia_1d_rec(lista_1d)}\")"
      ],
      "metadata": {
        "id": "3acOZ0r2M8fU",
        "outputId": "879089e6-ea91-4753-b1fe-3f4dfa3a2860",
        "colab": {
          "base_uri": "https://localhost:8080/"
        }
      },
      "execution_count": 14,
      "outputs": [
        {
          "output_type": "stream",
          "name": "stdout",
          "text": [
            "Distancia mínima = 78\n"
          ]
        }
      ]
    },
    {
      "cell_type": "markdown",
      "source": [
        "Para el mejor de los casos, en los que haya únicamente uno o dos puntos:\n",
        "\n",
        "$T^{m}(n) = 1 \\equiv \\mathcal{O} (1)$\n",
        "\n",
        "\n",
        "Para el peor de los casos, por cada iteración se realizan 5 operaciones:\n",
        "- Cálculo del tamaño de cada partición\n",
        "- División de la lista en la parte izquierda\n",
        "- División de la lista en la parte izquierda\n",
        "\n",
        "Después se realiza la llamada recursiva a la función con cada mitad de la lista\n",
        "Por último, habiendo llegado al caso base:\n",
        "- Se realiza el cáclulo de la ditancia entre los puntos a ambos lados de cada partición\n",
        "- Cálculo de la mínima distancia\n",
        "\n",
        "La complejidad, en cada iteración, sería igual a:\n",
        "\n",
        "$T^{p}(n) = 5 + 2 \\times T(\\frac{n}{2}) = 5 + 2 \\times (5 + 2 \\times T(\\frac{n}{4})) = 5 + 2 \\times (5 + 2 \\times (5 + 2 \\times T(\\frac{n}{8}))) = ...$\n",
        "\n",
        "$T^{p}(n) = 5 + 10 + 15 + ... +5 \\times 2^{i - 1} + 2^{i} \\times T(\\frac{n}{2^{i}}) = 5 \\times (2^{i} - 1) + 2^{i} \\times T(\\frac{n}{2^{i}})$\n",
        "$T^{p}(n) = 5 \\times (2^{log_{2}n} - 1) + 2^{log_{2}n} \\times T(1) = 5 \\times n - 5 + n = 6n - 5 \\equiv \\mathcal{O} (n)$\n"
      ],
      "metadata": {
        "id": "pLTeJ12gD8ur"
      }
    }
  ]
}