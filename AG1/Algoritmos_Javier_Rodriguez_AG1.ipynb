{
  "nbformat": 4,
  "nbformat_minor": 0,
  "metadata": {
    "colab": {
      "provenance": [],
      "authorship_tag": "ABX9TyPb0J0oLQUW9wihzytspJvh",
      "include_colab_link": true
    },
    "kernelspec": {
      "name": "python3",
      "display_name": "Python 3"
    },
    "language_info": {
      "name": "python"
    }
  },
  "cells": [
    {
      "cell_type": "markdown",
      "metadata": {
        "id": "view-in-github",
        "colab_type": "text"
      },
      "source": [
        "<a href=\"https://colab.research.google.com/github/atarax-ia/VIU_03_Alg_Optimizacion/blob/main/AG1/Algoritmos_Javier_Rodriguez_AG1.ipynb\" target=\"_parent\"><img src=\"https://colab.research.google.com/assets/colab-badge.svg\" alt=\"Open In Colab\"/></a>"
      ]
    },
    {
      "cell_type": "markdown",
      "source": [
        "# Actividad Guiada 1\n",
        "# Javier Rodríguez Juárez\n",
        "\n",
        "[Link a Github](https://github.com/atarax-ia/VIU_03_Alg_Optimizacion/tree/main/AG1)"
      ],
      "metadata": {
        "id": "ZzkxPJWc3OK9"
      }
    },
    {
      "cell_type": "markdown",
      "source": [
        "### Torres de Hanoi"
      ],
      "metadata": {
        "id": "_JYtBKvDBhMn"
      }
    },
    {
      "cell_type": "code",
      "source": [
        "def torres_hanoi(n, origen, destino, pivote):\n",
        "  if n == 1:\n",
        "    print(f\"Mover bloque {n} desde {origen} a {destino}\")\n",
        "    return\n",
        "  # El orden de los postes: origen, destino, pivote; ´\n",
        "  # determina las reglas del juego (colocar piezas menores sobre piezas mayores)\n",
        "  torres_hanoi(n - 1, origen, pivote, destino)\n",
        "  print(f\"Mover bloque {n} desde {origen} a {destino}\")\n",
        "  torres_hanoi(n - 1, pivote, destino, origen)"
      ],
      "metadata": {
        "id": "5M-43IG53aH2"
      },
      "execution_count": null,
      "outputs": []
    },
    {
      "cell_type": "code",
      "source": [
        "torres_hanoi(4, \"P1\", \"P3\", \"P2\")"
      ],
      "metadata": {
        "colab": {
          "base_uri": "https://localhost:8080/"
        },
        "id": "_SA94GiS7clg",
        "outputId": "83dc7ec9-2e91-4c2f-afbf-963b627fd40f"
      },
      "execution_count": null,
      "outputs": [
        {
          "output_type": "stream",
          "name": "stdout",
          "text": [
            "Mover bloque 1 desde P1 a P2\n",
            "Mover bloque 2 desde P1 a P3\n",
            "Mover bloque 1 desde P2 a P3\n",
            "Mover bloque 3 desde P1 a P2\n",
            "Mover bloque 1 desde P3 a P1\n",
            "Mover bloque 2 desde P3 a P2\n",
            "Mover bloque 1 desde P1 a P2\n",
            "Mover bloque 4 desde P1 a P3\n",
            "Mover bloque 1 desde P2 a P3\n",
            "Mover bloque 2 desde P2 a P1\n",
            "Mover bloque 1 desde P3 a P1\n",
            "Mover bloque 3 desde P2 a P3\n",
            "Mover bloque 1 desde P1 a P2\n",
            "Mover bloque 2 desde P1 a P3\n",
            "Mover bloque 1 desde P2 a P3\n"
          ]
        }
      ]
    },
    {
      "cell_type": "markdown",
      "source": [
        "### Cambio de monedas"
      ],
      "metadata": {
        "id": "dRUX4MMuBtGM"
      }
    },
    {
      "cell_type": "code",
      "source": [
        "def cambio_monedas(cantidad, sistema):\n",
        "  print(f\"El sistema es {sistema}\")\n",
        "  solucion = [0 for i in range(len(sistema))]   # Tantos ceros como elementos tiene el sistema\n",
        "  valor_acumulado = 0\n",
        "\n",
        "  for i in range(len(sistema)):\n",
        "    monedas = int((cantidad - valor_acumulado) / sistema[i])\n",
        "    solucion[i] = monedas\n",
        "    valor_acumulado += monedas * sistema[i]\n",
        "    if valor_acumulado == cantidad:\n",
        "      break\n",
        "  return solucion\n"
      ],
      "metadata": {
        "id": "w3E3i5a8BfQt"
      },
      "execution_count": null,
      "outputs": []
    },
    {
      "cell_type": "code",
      "source": [
        "monedas = [25, 10, 5, 1]\n",
        "\n",
        "cambio_monedas(117, monedas)"
      ],
      "metadata": {
        "colab": {
          "base_uri": "https://localhost:8080/"
        },
        "id": "pKKIo57sEu70",
        "outputId": "c209f1a4-290e-425d-e63e-f86366dbd391"
      },
      "execution_count": null,
      "outputs": [
        {
          "output_type": "stream",
          "name": "stdout",
          "text": [
            "El sistema es [25, 10, 5, 1]\n"
          ]
        },
        {
          "output_type": "execute_result",
          "data": {
            "text/plain": [
              "[4, 1, 1, 2]"
            ]
          },
          "metadata": {},
          "execution_count": 42
        }
      ]
    },
    {
      "cell_type": "code",
      "source": [
        "def cambio_monedas(cantidad, sistema):\n",
        "  print(f\"El sistema es {sistema}\")\n",
        "  cambio = []\n",
        "  for m in sistema:\n",
        "    cambio.append(cantidad // m)\n",
        "    cantidad = cantidad % m\n",
        "  return cambio"
      ],
      "metadata": {
        "id": "hz8Rb7dUEoGq"
      },
      "execution_count": null,
      "outputs": []
    },
    {
      "cell_type": "code",
      "source": [
        "monedas = [25, 10, 5, 1]\n",
        "\n",
        "cambio_monedas(117, monedas)"
      ],
      "metadata": {
        "colab": {
          "base_uri": "https://localhost:8080/"
        },
        "id": "SkbCx6jkENvN",
        "outputId": "d4fef992-1c4a-441c-fae3-517d59c1cd47"
      },
      "execution_count": null,
      "outputs": [
        {
          "output_type": "stream",
          "name": "stdout",
          "text": [
            "El sistema es [25, 10, 5, 1]\n"
          ]
        },
        {
          "output_type": "execute_result",
          "data": {
            "text/plain": [
              "[4, 1, 1, 2]"
            ]
          },
          "metadata": {},
          "execution_count": 41
        }
      ]
    },
    {
      "cell_type": "markdown",
      "source": [
        "### Distancia entre dos puntos"
      ],
      "metadata": {
        "id": "AIggOshKJlHZ"
      }
    },
    {
      "cell_type": "markdown",
      "source": [
        "Por **fuerza bruta**, calculando la distancia entre todos los puntos.\n",
        "\n",
        "La distancia se inicializa con infinito.\n",
        "\n",
        "Comprobamos la distancia entre todos los puntos, tomando el mínimo de todos ellos"
      ],
      "metadata": {
        "id": "JOqbvZ6cKEQN"
      }
    },
    {
      "cell_type": "code",
      "source": [
        "def distancia_1d_bf(lista_ptos):\n",
        "  resultado = float('inf')\n",
        "  for i in range(len(lista_ptos)):\n",
        "    for j in range(i + 1, len(lista_ptos)):\n",
        "      dist = abs(lista_ptos[i] - lista_ptos[j])\n",
        "      resultado = dist if dist < resultado else resultado\n",
        "  return resultado"
      ],
      "metadata": {
        "id": "9IG50J6kJpoD"
      },
      "execution_count": 3,
      "outputs": []
    },
    {
      "cell_type": "code",
      "source": [
        "import numpy as np\n",
        "np.random.seed(42)\n",
        "lista_1d = list(set(np.random.randint(low=0, high=10000, size=10)))\n",
        "\n",
        "print(f\"Listado de puntos = {lista_1d}\")\n",
        "print(f\"Distancia mínima = {distancia_1d_bf(lista_1d)}\")"
      ],
      "metadata": {
        "colab": {
          "base_uri": "https://localhost:8080/"
        },
        "id": "01Bb_DxJL6F3",
        "outputId": "d40939ef-d959-44bd-938c-4728f9661ccb"
      },
      "execution_count": 4,
      "outputs": [
        {
          "output_type": "stream",
          "name": "stdout",
          "text": [
            "Listado de puntos = [8322, 5734, 5191, 7270, 4426, 5578, 5390, 466, 6265, 860]\n",
            "Distancia mínima = 156\n"
          ]
        }
      ]
    },
    {
      "cell_type": "markdown",
      "source": [
        "Por **recursividad**:"
      ],
      "metadata": {
        "id": "3mqh-MylKvDT"
      }
    },
    {
      "cell_type": "code",
      "source": [
        "def distancia_1d_rec(lista_ptos):\n",
        "  # Casos base:\n",
        "  if len(lista_ptos) == 1:\n",
        "    return float('inf')\n",
        "  elif len(lista_ptos) == 2:\n",
        "    return abs(lista_ptos[1] - lista_ptos[0])\n",
        "  else:\n",
        "    mid = len(lista_ptos) // 2\n",
        "    mitad_izqda = lista_ptos[:mid]\n",
        "    mitad_dcha = lista_ptos[mid:]\n",
        "    dist_izqda = distancia_1d_rec(mitad_izqda)\n",
        "    dist_dcha = distancia_1d_rec(mitad_dcha)\n",
        "    dist_frontera = abs(mitad_izqda[-1] - mitad_dcha[0])\n",
        "    return min(dist_izqda, dist_dcha, dist_frontera)"
      ],
      "metadata": {
        "id": "mI0C4GyUKyMs"
      },
      "execution_count": 5,
      "outputs": []
    },
    {
      "cell_type": "code",
      "source": [
        "import numpy as np\n",
        "np.random.seed(42)\n",
        "lista_1d = list(set(np.random.randint(low=0, high=10000, size=10)))\n",
        "\n",
        "print(f\"Listado de puntos = {lista_1d}\")\n",
        "print(f\"Distancia mínima = {distancia_1d_rec(lista_1d)}\")"
      ],
      "metadata": {
        "id": "b9ZGoTt077AS"
      },
      "execution_count": null,
      "outputs": []
    }
  ]
}