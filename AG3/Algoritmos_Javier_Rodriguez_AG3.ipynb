{
  "cells": [
    {
      "attachments": {},
      "cell_type": "markdown",
      "metadata": {
        "colab_type": "text",
        "id": "view-in-github"
      },
      "source": [
        "<a href=\"https://colab.research.google.com/github/atarax-ia/VIU_03_Alg_Optimizacion/blob/main/AG3/Algoritmos_Javier_Rodriguez_AG3.ipynb\" target=\"_parent\"><img src=\"https://colab.research.google.com/assets/colab-badge.svg\" alt=\"Open In Colab\"/></a>"
      ]
    },
    {
      "attachments": {},
      "cell_type": "markdown",
      "metadata": {
        "id": "m3wfOA8XTKQl"
      },
      "source": [
        "# Actividad Guiada 3\n",
        "# Javier Rodríguez Juárez\n",
        "\n",
        "[Link a Github](https://github.com/atarax-ia/VIU_03_Alg_Optimizacion/tree/main/AG3)"
      ]
    },
    {
      "attachments": {},
      "cell_type": "markdown",
      "metadata": {
        "id": "m-gbxt9BFfdN"
      },
      "source": [
        "#Carga de librerias"
      ]
    },
    {
      "cell_type": "code",
      "execution_count": 10,
      "metadata": {
        "colab": {
          "base_uri": "https://localhost:8080/",
          "height": 0
        },
        "id": "qP-Y3Gkfc4vn",
        "outputId": "5fc44cd3-8632-497b-d3ca-b83267b44a51"
      },
      "outputs": [
        {
          "name": "stdout",
          "output_type": "stream",
          "text": [
            "Requirement already satisfied: requests in /usr/local/lib/python3.10/dist-packages (2.27.1)\n",
            "Requirement already satisfied: urllib3<1.27,>=1.21.1 in /usr/local/lib/python3.10/dist-packages (from requests) (1.26.16)\n",
            "Requirement already satisfied: certifi>=2017.4.17 in /usr/local/lib/python3.10/dist-packages (from requests) (2023.5.7)\n",
            "Requirement already satisfied: charset-normalizer~=2.0.0 in /usr/local/lib/python3.10/dist-packages (from requests) (2.0.12)\n",
            "Requirement already satisfied: idna<4,>=2.5 in /usr/local/lib/python3.10/dist-packages (from requests) (3.4)\n",
            "Requirement already satisfied: tsplib95 in /usr/local/lib/python3.10/dist-packages (0.7.1)\n",
            "Requirement already satisfied: Click>=6.0 in /usr/local/lib/python3.10/dist-packages (from tsplib95) (8.1.3)\n",
            "Requirement already satisfied: Deprecated~=1.2.9 in /usr/local/lib/python3.10/dist-packages (from tsplib95) (1.2.14)\n",
            "Requirement already satisfied: networkx~=2.1 in /usr/local/lib/python3.10/dist-packages (from tsplib95) (2.8.8)\n",
            "Requirement already satisfied: tabulate~=0.8.7 in /usr/local/lib/python3.10/dist-packages (from tsplib95) (0.8.10)\n",
            "Requirement already satisfied: wrapt<2,>=1.10 in /usr/local/lib/python3.10/dist-packages (from Deprecated~=1.2.9->tsplib95) (1.14.1)\n"
          ]
        }
      ],
      "source": [
        "!pip install requests    #Hacer llamadas http a paginas de la red\n",
        "!pip install tsplib95    #Modulo para las instancias del problema del TSP"
      ]
    },
    {
      "attachments": {},
      "cell_type": "markdown",
      "metadata": {
        "id": "nHRiJhTnFmuV"
      },
      "source": [
        "#Carga de los datos del problema"
      ]
    },
    {
      "cell_type": "code",
      "execution_count": 11,
      "metadata": {
        "colab": {
          "base_uri": "https://localhost:8080/",
          "height": 0
        },
        "id": "mnA47nhtdKOc",
        "outputId": "a7375363-a319-4770-b3eb-45c11df57d0a"
      },
      "outputs": [
        {
          "name": "stdout",
          "output_type": "stream",
          "text": [
            "gzip: swiss42.tsp already exists; do you wish to overwrite (y or n)? y\n"
          ]
        }
      ],
      "source": [
        "import urllib.request #Hacer llamadas http a paginas de la red\n",
        "import tsplib95       #Modulo para las instancias del problema del TSP\n",
        "import math           #Modulo de funciones matematicas. Se usa para exp\n",
        "import random                     #Para generar valores aleatorios\n",
        "\n",
        "#Descargamos el fichero de datos(Matriz de distancias)\n",
        "file = \"swiss42.tsp\" ;\n",
        "urllib.request.urlretrieve(\"http://comopt.ifi.uni-heidelberg.de/software/TSPLIB95/tsp/swiss42.tsp.gz\", file + '.gz')\n",
        "!gzip -d swiss42.tsp.gz     #Descomprimir el fichero de datos\n",
        "\n"
      ]
    },
    {
      "cell_type": "code",
      "execution_count": 12,
      "metadata": {
        "id": "RIXYkDWcfmwd"
      },
      "outputs": [],
      "source": [
        "#Carga de datos y generación de objeto problem\n",
        "###############################################################################\n",
        "problem = tsplib95.load(file)\n",
        "\n",
        "#Nodos\n",
        "Nodos = list(problem.get_nodes())\n",
        "\n",
        "#Aristas\n",
        "Aristas = list(problem.get_edges())\n",
        "\n"
      ]
    },
    {
      "cell_type": "code",
      "execution_count": 13,
      "metadata": {
        "colab": {
          "base_uri": "https://localhost:8080/",
          "height": 0
        },
        "id": "a7bTofSnn_Jt",
        "outputId": "d6272c9f-ae8e-405f-c525-1eb0f71d8917"
      },
      "outputs": [
        {
          "data": {
            "text/plain": [
              "15"
            ]
          },
          "execution_count": 13,
          "metadata": {},
          "output_type": "execute_result"
        }
      ],
      "source": [
        "#Probamos algunas funciones del objeto problem\n",
        "\n",
        "#Distancia entre nodos\n",
        "problem.get_weight(0, 1)\n",
        "\n",
        "#Todas las funciones\n",
        "#Documentación: https://tsplib95.readthedocs.io/en/v0.6.1/modules.html\n",
        "\n",
        "#dir(problem)"
      ]
    },
    {
      "attachments": {},
      "cell_type": "markdown",
      "metadata": {
        "id": "BpwtaRQIFYvO"
      },
      "source": [
        "#Funcionas basicas\n"
      ]
    },
    {
      "attachments": {},
      "cell_type": "markdown",
      "metadata": {
        "id": "zfwRoUPDYVTr"
      },
      "source": [
        "#BUSQUEDA ALEATORIA"
      ]
    },
    {
      "cell_type": "code",
      "execution_count": 14,
      "metadata": {
        "id": "tzrkaBS3gmmz"
      },
      "outputs": [],
      "source": [
        "\n",
        "#Funcionas basicas\n",
        "###############################################################################\n",
        "\n",
        "#Se genera una solucion aleatoria con comienzo en en el nodo 0\n",
        "def crear_solucion(Nodos):\n",
        "  solucion = [Nodos[0]]\n",
        "  for n in Nodos[1:]:\n",
        "    solucion = solucion + [random.choice(list(set(Nodos) - set(solucion)))]\n",
        "  return solucion\n",
        "\n",
        "#Devuelve la distancia entre dos nodos\n",
        "def distancia(a,b, problem):\n",
        "  return problem.get_weight(a,b)\n",
        "\n",
        "#Devuelve la distancia total de una trayectoria/solucion\n",
        "def distancia_total(solucion, problem):\n",
        "  distancia_total = 0\n",
        "  for i in range(len(solucion)-1):\n",
        "    distancia_total += distancia(solucion[i] ,solucion[i+1] ,  problem)\n",
        "  return distancia_total + distancia(solucion[len(solucion)-1] ,solucion[0], problem)\n",
        "\n",
        "\n"
      ]
    },
    {
      "cell_type": "code",
      "execution_count": 15,
      "metadata": {
        "colab": {
          "base_uri": "https://localhost:8080/",
          "height": 0
        },
        "id": "U7FEJ5OHG2vl",
        "outputId": "bd811b52-f912-4f35-a44e-dc295c670814"
      },
      "outputs": [
        {
          "name": "stdout",
          "output_type": "stream",
          "text": [
            "Mejor solución: [0, 17, 10, 12, 7, 2, 22, 39, 30, 32, 3, 14, 6, 21, 11, 18, 34, 38, 40, 23, 1, 5, 26, 16, 19, 4, 27, 25, 29, 9, 33, 24, 8, 13, 41, 28, 31, 37, 15, 35, 36, 20]\n",
            "Distancia     : 3667\n"
          ]
        }
      ],
      "source": [
        "###############################################################################\n",
        "# BUSQUEDA ALEATORIA\n",
        "###############################################################################\n",
        "\n",
        "def busqueda_aleatoria(problem, N):\n",
        "  #N es el numero de iteraciones\n",
        "  Nodos = list(problem.get_nodes())\n",
        "\n",
        "  mejor_solucion = []\n",
        "  #mejor_distancia = 10e100                         #Inicializamos con un valor alto\n",
        "  mejor_distancia = float('inf')                    #Inicializamos con un valor alto\n",
        "\n",
        "  for i in range(N):                                #Criterio de parada: repetir N veces pero podemos incluir otros\n",
        "    solucion = crear_solucion(Nodos)                #Genera una solucion aleatoria\n",
        "    distancia = distancia_total(solucion, problem)  #Calcula el valor objetivo(distancia total)\n",
        "\n",
        "    if distancia < mejor_distancia:                 #Compara con la mejor obtenida hasta ahora\n",
        "      mejor_solucion = solucion\n",
        "      mejor_distancia = distancia\n",
        "\n",
        "\n",
        "  print(\"Mejor solución:\" , mejor_solucion)\n",
        "  print(\"Distancia     :\" , mejor_distancia)\n",
        "  return mejor_solucion\n",
        "\n",
        "\n",
        "#Busqueda aleatoria con 5000 iteraciones\n",
        "solucion = busqueda_aleatoria(problem, 10000)"
      ]
    },
    {
      "attachments": {},
      "cell_type": "markdown",
      "metadata": {
        "id": "gxyEjqm8YZIk"
      },
      "source": [
        "#BUSQUEDA LOCAL"
      ]
    },
    {
      "cell_type": "code",
      "execution_count": 16,
      "metadata": {
        "colab": {
          "base_uri": "https://localhost:8080/",
          "height": 0
        },
        "id": "sOo-N3yIX7bp",
        "outputId": "6f6e00d6-8add-4713-e692-55083a4ed8c8"
      },
      "outputs": [
        {
          "name": "stdout",
          "output_type": "stream",
          "text": [
            "Distancia Solucion Incial: 3667\n",
            "Distancia Mejor Solucion Local: 3406\n"
          ]
        }
      ],
      "source": [
        "###############################################################################\n",
        "# BUSQUEDA LOCAL\n",
        "###############################################################################\n",
        "def genera_vecina(solucion):\n",
        "  #Generador de soluciones vecinas: 2-opt (intercambiar 2 nodos) Si hay N nodos se generan (N-1)x(N-2)/2 soluciones\n",
        "  #Se puede modificar para aplicar otros generadores distintos que 2-opt\n",
        "  #print(solucion)\n",
        "  mejor_solucion = []\n",
        "  mejor_distancia = 10e100\n",
        "  for i in range(1,len(solucion)-1):          #Recorremos todos los nodos en bucle doble para evaluar todos los intercambios 2-opt\n",
        "    for j in range(i+1, len(solucion)):\n",
        "\n",
        "      #Se genera una nueva solución intercambiando los dos nodos i,j:\n",
        "      #  (usamos el operador + que para listas en python las concatena) : ej.: [1,2] + [3] = [1,2,3]\n",
        "      vecina = solucion[:i] + [solucion[j]] + solucion[i+1:j] + [solucion[i]] + solucion[j+1:]\n",
        "\n",
        "      #Se evalua la nueva solución ...\n",
        "      distancia_vecina = distancia_total(vecina, problem)\n",
        "\n",
        "      #... para guardarla si mejora las anteriores\n",
        "      if distancia_vecina <= mejor_distancia:\n",
        "        mejor_distancia = distancia_vecina\n",
        "        mejor_solucion = vecina\n",
        "  return mejor_solucion\n",
        "\n",
        "\n",
        "#solucion = [1, 47, 13, 41, 40, 19, 42, 44, 37, 5, 22, 28, 3, 2, 29, 21, 50, 34, 30, 9, 16, 11, 38, 49, 10, 39, 33, 45, 15, 24, 43, 26, 31, 36, 35, 20, 8, 7, 23, 48, 27, 12, 17, 4, 18, 25, 14, 6, 51, 46, 32]\n",
        "print(\"Distancia Solucion Incial:\" , distancia_total(solucion, problem))\n",
        "\n",
        "\n",
        "nueva_solucion = genera_vecina(solucion)\n",
        "print(\"Distancia Mejor Solucion Local:\", distancia_total(nueva_solucion, problem))\n"
      ]
    },
    {
      "cell_type": "code",
      "execution_count": 17,
      "metadata": {
        "colab": {
          "base_uri": "https://localhost:8080/",
          "height": 0
        },
        "id": "2DKvldWcYOU9",
        "outputId": "adee77e3-39e8-493c-f110-e71c6e5e4b97"
      },
      "outputs": [
        {
          "name": "stdout",
          "output_type": "stream",
          "text": [
            "En la iteracion  35 , la mejor solución encontrada es: [0, 32, 20, 33, 34, 38, 22, 30, 29, 28, 27, 2, 3, 17, 31, 35, 36, 37, 5, 26, 10, 40, 24, 21, 39, 9, 8, 23, 41, 25, 11, 12, 18, 13, 19, 14, 16, 15, 7, 1, 6, 4]\n",
            "Distancia     : 1599\n"
          ]
        }
      ],
      "source": [
        "#Busqueda Local:\n",
        "#  - Sobre el operador de vecindad 2-opt(funcion genera_vecina)\n",
        "#  - Sin criterio de parada, se para cuando no es posible mejorar.\n",
        "def busqueda_local(problem):\n",
        "  mejor_solucion = []\n",
        "\n",
        "  #Generar una solucion inicial de referencia(aleatoria)\n",
        "  solucion_referencia = crear_solucion(Nodos)\n",
        "  mejor_distancia = distancia_total(solucion_referencia, problem)\n",
        "\n",
        "  iteracion=0             #Un contador para saber las iteraciones que hacemos\n",
        "  while(1):\n",
        "    iteracion +=1         #Incrementamos el contador\n",
        "    #print('#',iteracion)\n",
        "\n",
        "    #Obtenemos la mejor vecina ...\n",
        "    vecina = genera_vecina(solucion_referencia)\n",
        "\n",
        "    #... y la evaluamos para ver si mejoramos respecto a lo encontrado hasta el momento\n",
        "    distancia_vecina = distancia_total(vecina, problem)\n",
        "\n",
        "    #Si no mejoramos hay que terminar. Hemos llegado a un minimo local(según nuestro operador de vencindad 2-opt)\n",
        "    if distancia_vecina < mejor_distancia:\n",
        "      #mejor_solucion = copy.deepcopy(vecina)   #Con copia profunda. Las copias en python son por referencia\n",
        "      mejor_solucion = vecina                   #Guarda la mejor solución encontrada\n",
        "      mejor_distancia = distancia_vecina\n",
        "\n",
        "    else:\n",
        "      print(\"En la iteracion \", iteracion, \", la mejor solución encontrada es:\" , mejor_solucion)\n",
        "      print(\"Distancia     :\" , mejor_distancia)\n",
        "      return mejor_solucion\n",
        "\n",
        "    solucion_referencia = vecina\n",
        "\n",
        "\n",
        "sol = busqueda_local(problem)"
      ]
    },
    {
      "cell_type": "code",
      "execution_count": 18,
      "metadata": {
        "colab": {
          "base_uri": "https://localhost:8080/",
          "height": 0
        },
        "id": "BS2buVIlA6P0",
        "outputId": "7b1cc35c-e8f8-4282-f311-6cf74c05a73e"
      },
      "outputs": [
        {
          "name": "stdout",
          "output_type": "stream",
          "text": [
            "Iteracion 10 de 50\n",
            "\tMejor distancia hasta el momento: 1716 en la iteracion 2\n",
            "Iteracion 20 de 50\n",
            "\tMejor distancia hasta el momento: 1591 en la iteracion 13\n",
            "Iteracion 30 de 50\n",
            "\tMejor distancia hasta el momento: 1534 en la iteracion 24\n",
            "Iteracion 40 de 50\n",
            "\tMejor distancia hasta el momento: 1454 en la iteracion 34\n",
            "Iteracion 50 de 50\n",
            "\tMejor distancia hasta el momento: 1454 en la iteracion 34\n",
            "\n",
            "\n",
            "En la solucion  34 , la mejor solución encontrada es: [0, 27, 2, 3, 4, 6, 5, 26, 18, 13, 19, 14, 16, 15, 37, 17, 36, 35, 31, 20, 33, 34, 38, 22, 21, 24, 40, 23, 41, 25, 11, 12, 10, 8, 9, 39, 29, 30, 28, 32, 7, 1]\n",
            "Distancia     : 1454\n"
          ]
        }
      ],
      "source": [
        "#Busqueda Local con MULTI-START:\n",
        "#  - Sobre el operador de vecindad 2-opt(funcion genera_vecina)\n",
        "#  - Sin criterio de parada, se para cuando no es posible mejorar.\n",
        "def busqueda_local(problem):\n",
        "  mejor_solucion = []\n",
        "\n",
        "  solucion_referencia = crear_solucion(Nodos)\n",
        "  mejor_distancia = distancia_total(solucion_referencia, problem)\n",
        "\n",
        "  iteracion=0\n",
        "  while(1):\n",
        "    iteracion +=1\n",
        "    vecina = genera_vecina(solucion_referencia)\n",
        "    distancia_vecina = distancia_total(vecina, problem)\n",
        "\n",
        "    if distancia_vecina < mejor_distancia:\n",
        "      mejor_solucion = vecina\n",
        "      mejor_distancia = distancia_vecina\n",
        "    else:\n",
        "      return mejor_distancia, mejor_solucion\n",
        "\n",
        "    solucion_referencia = vecina\n",
        "\n",
        "\n",
        "def busqueda_local_multiple(problem, iteraciones):\n",
        "  mejor_solucion = []\n",
        "  mejor_distancia = float('inf')\n",
        "  it_num = 0\n",
        "\n",
        "  for i in range(1, iteraciones + 1):\n",
        "    dist, sol = busqueda_local(problem)\n",
        "\n",
        "    if dist < mejor_distancia:\n",
        "      mejor_solucion = sol\n",
        "      mejor_distancia = dist\n",
        "      it_num = i\n",
        "\n",
        "    if i%10 == 0:\n",
        "      print(f\"Iteracion {i} de {iteraciones}\")\n",
        "      print(f\"\\tMejor distancia hasta el momento: {mejor_distancia} en la iteracion {it_num}\")\n",
        "\n",
        "  print(\"\\n\\nEn la solucion \", it_num, \", la mejor solución encontrada es:\" , mejor_solucion)\n",
        "  print(\"Distancia     :\" , mejor_distancia)\n",
        "  return mejor_solucion\n",
        "\n",
        "\n",
        "sol = busqueda_local_multiple(problem, 50)"
      ]
    }
  ],
  "metadata": {
    "colab": {
      "include_colab_link": true,
      "provenance": []
    },
    "kernelspec": {
      "display_name": "Python 3",
      "name": "python3"
    },
    "language_info": {
      "name": "python",
      "version": "3.9.13"
    }
  },
  "nbformat": 4,
  "nbformat_minor": 0
}
